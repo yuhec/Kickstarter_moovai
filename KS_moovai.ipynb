{
  "nbformat": 4,
  "nbformat_minor": 0,
  "metadata": {
    "colab": {
      "provenance": [],
      "authorship_tag": "ABX9TyNFj2kQ640URgA44MOaIMQH",
      "include_colab_link": true
    },
    "kernelspec": {
      "name": "python3",
      "display_name": "Python 3"
    },
    "language_info": {
      "name": "python"
    }
  },
  "cells": [
    {
      "cell_type": "markdown",
      "metadata": {
        "id": "view-in-github",
        "colab_type": "text"
      },
      "source": [
        "<a href=\"https://colab.research.google.com/github/yuhec/Kickstarter_moovai/blob/main/KS_moovai.ipynb\" target=\"_parent\"><img src=\"https://colab.research.google.com/assets/colab-badge.svg\" alt=\"Open In Colab\"/></a>"
      ]
    },
    {
      "cell_type": "markdown",
      "source": [
        "# Import des données"
      ],
      "metadata": {
        "id": "W5Jxl12XZbvN"
      }
    },
    {
      "cell_type": "code",
      "source": [
        "import pandas as pd\n",
        "import matplotlib.pyplot as plt\n",
        "import numpy as np\n",
        "import seaborn as sns\n",
        "from sklearn.base import BaseEstimator, TransformerMixin\n",
        "\n",
        "path = 'drive/My Drive/Colab Notebooks/ks_dataset.csv'"
      ],
      "metadata": {
        "id": "hh30fcAOy0n0"
      },
      "execution_count": 1,
      "outputs": []
    },
    {
      "cell_type": "code",
      "execution_count": 2,
      "metadata": {
        "colab": {
          "base_uri": "https://localhost:8080/"
        },
        "id": "zmea3OoZAZkQ",
        "outputId": "85995269-e869-4cb1-d499-bda0db66d922"
      },
      "outputs": [
        {
          "output_type": "stream",
          "name": "stdout",
          "text": [
            "Drive already mounted at /content/drive; to attempt to forcibly remount, call drive.mount(\"/content/drive\", force_remount=True).\n"
          ]
        }
      ],
      "source": [
        "from google.colab import drive\n",
        "drive.mount('/content/drive')"
      ]
    },
    {
      "cell_type": "code",
      "source": [
        "!pwd"
      ],
      "metadata": {
        "colab": {
          "base_uri": "https://localhost:8080/"
        },
        "id": "ZQ5bvqBkV7sC",
        "outputId": "e4e12547-b562-4628-ab2d-7d94b8e94087"
      },
      "execution_count": 3,
      "outputs": [
        {
          "output_type": "stream",
          "name": "stdout",
          "text": [
            "/content\n"
          ]
        }
      ]
    },
    {
      "cell_type": "code",
      "source": [
        "def load_csv(path):\n",
        "  rows = []\n",
        "  # Lecture du fichier CSV ligne par ligne\n",
        "  with open(path, 'r', encoding='latin-1') as file:\n",
        "    for line in file:\n",
        "        # Suppression des espaces en début et fin de ligne\n",
        "        line = line.strip()\n",
        "\n",
        "        columns = []\n",
        "        start_index = 0\n",
        "        current_value = \"\"\n",
        "        in_quotes = False\n",
        "        for i in range(len(line)):\n",
        "          # Séparation de la ligne par les virgules, tout en préservant les virgules dans la colonne \"name\"\n",
        "          if line[i] == ',' and i+1 < len(line) and line[i+1] != ' ' and not in_quotes:\n",
        "            columns.append(current_value)\n",
        "            current_value = \"\"\n",
        "            start_index += 1\n",
        "          elif line[i] == ',' and i+1 == len(line) and not in_quotes:\n",
        "            columns.append(current_value)\n",
        "            current_value = \"\"\n",
        "            start_index += 1\n",
        "          else:\n",
        "            current_value += line[i]\n",
        "\n",
        "          if line[i] == '\"':\n",
        "            in_quotes = not in_quotes\n",
        "\n",
        "        # Ajout de la ligne traitée à la liste des lignes\n",
        "        rows.append(columns)\n",
        "\n",
        "  df = pd.DataFrame(rows[1:], columns=rows[0])\n",
        "\n",
        "  return df"
      ],
      "metadata": {
        "id": "WkOX-67Mh_fo"
      },
      "execution_count": 4,
      "outputs": []
    },
    {
      "cell_type": "code",
      "source": [
        "df = load_csv(path)\n",
        "df.head()"
      ],
      "metadata": {
        "colab": {
          "base_uri": "https://localhost:8080/",
          "height": 206
        },
        "id": "DHvoVBVSAf13",
        "outputId": "852ffe0f-d410-40a7-8f9f-8eba31024144"
      },
      "execution_count": 5,
      "outputs": [
        {
          "output_type": "execute_result",
          "data": {
            "text/plain": [
              "          ID                                               name   \\\n",
              "0  1000002330                    The Songs of Adelaide & Abullah   \n",
              "1  1000004038                                     Where is Hank?   \n",
              "2  1000007540  ToshiCapital Rekordz Needs Help to Complete Album   \n",
              "3  1000011046  Community Film Project: The Art of Neighborhoo...   \n",
              "4  1000014025                               Monarch Espresso Bar   \n",
              "\n",
              "        category  main_category  currency             deadline   goal   \\\n",
              "0          Poetry     Publishing       GBP  2015-10-09 11:36:00   1000   \n",
              "1  Narrative Film   Film & Video       USD  2013-02-26 00:20:50  45000   \n",
              "2           Music          Music       USD  2012-04-16 04:24:11   5000   \n",
              "3    Film & Video   Film & Video       USD  2015-08-29 01:00:00  19500   \n",
              "4     Restaurants           Food       USD  2016-04-01 13:38:27  50000   \n",
              "\n",
              "             launched  pledged       state  backers  country  usd pledged     \\\n",
              "0  2015-08-11 12:12:28        0      failed        0       GB            0     \n",
              "1  2013-01-12 00:20:50      220      failed        3       US          220     \n",
              "2  2012-03-17 03:24:11        1      failed        1       US            1     \n",
              "3  2015-07-04 08:35:03     1283    canceled       14       US         1283     \n",
              "4  2016-02-26 13:38:27    52375  successful      224       US        52375     \n",
              "\n",
              "       \n",
              "0      \n",
              "1      \n",
              "2      \n",
              "3      \n",
              "4      "
            ],
            "text/html": [
              "\n",
              "  <div id=\"df-741bbc60-679b-48af-93f5-98804448b74c\">\n",
              "    <div class=\"colab-df-container\">\n",
              "      <div>\n",
              "<style scoped>\n",
              "    .dataframe tbody tr th:only-of-type {\n",
              "        vertical-align: middle;\n",
              "    }\n",
              "\n",
              "    .dataframe tbody tr th {\n",
              "        vertical-align: top;\n",
              "    }\n",
              "\n",
              "    .dataframe thead th {\n",
              "        text-align: right;\n",
              "    }\n",
              "</style>\n",
              "<table border=\"1\" class=\"dataframe\">\n",
              "  <thead>\n",
              "    <tr style=\"text-align: right;\">\n",
              "      <th></th>\n",
              "      <th>ID</th>\n",
              "      <th>name</th>\n",
              "      <th>category</th>\n",
              "      <th>main_category</th>\n",
              "      <th>currency</th>\n",
              "      <th>deadline</th>\n",
              "      <th>goal</th>\n",
              "      <th>launched</th>\n",
              "      <th>pledged</th>\n",
              "      <th>state</th>\n",
              "      <th>backers</th>\n",
              "      <th>country</th>\n",
              "      <th>usd pledged</th>\n",
              "      <th></th>\n",
              "      <th></th>\n",
              "      <th></th>\n",
              "    </tr>\n",
              "  </thead>\n",
              "  <tbody>\n",
              "    <tr>\n",
              "      <th>0</th>\n",
              "      <td>1000002330</td>\n",
              "      <td>The Songs of Adelaide &amp; Abullah</td>\n",
              "      <td>Poetry</td>\n",
              "      <td>Publishing</td>\n",
              "      <td>GBP</td>\n",
              "      <td>2015-10-09 11:36:00</td>\n",
              "      <td>1000</td>\n",
              "      <td>2015-08-11 12:12:28</td>\n",
              "      <td>0</td>\n",
              "      <td>failed</td>\n",
              "      <td>0</td>\n",
              "      <td>GB</td>\n",
              "      <td>0</td>\n",
              "      <td></td>\n",
              "      <td></td>\n",
              "      <td></td>\n",
              "    </tr>\n",
              "    <tr>\n",
              "      <th>1</th>\n",
              "      <td>1000004038</td>\n",
              "      <td>Where is Hank?</td>\n",
              "      <td>Narrative Film</td>\n",
              "      <td>Film &amp; Video</td>\n",
              "      <td>USD</td>\n",
              "      <td>2013-02-26 00:20:50</td>\n",
              "      <td>45000</td>\n",
              "      <td>2013-01-12 00:20:50</td>\n",
              "      <td>220</td>\n",
              "      <td>failed</td>\n",
              "      <td>3</td>\n",
              "      <td>US</td>\n",
              "      <td>220</td>\n",
              "      <td></td>\n",
              "      <td></td>\n",
              "      <td></td>\n",
              "    </tr>\n",
              "    <tr>\n",
              "      <th>2</th>\n",
              "      <td>1000007540</td>\n",
              "      <td>ToshiCapital Rekordz Needs Help to Complete Album</td>\n",
              "      <td>Music</td>\n",
              "      <td>Music</td>\n",
              "      <td>USD</td>\n",
              "      <td>2012-04-16 04:24:11</td>\n",
              "      <td>5000</td>\n",
              "      <td>2012-03-17 03:24:11</td>\n",
              "      <td>1</td>\n",
              "      <td>failed</td>\n",
              "      <td>1</td>\n",
              "      <td>US</td>\n",
              "      <td>1</td>\n",
              "      <td></td>\n",
              "      <td></td>\n",
              "      <td></td>\n",
              "    </tr>\n",
              "    <tr>\n",
              "      <th>3</th>\n",
              "      <td>1000011046</td>\n",
              "      <td>Community Film Project: The Art of Neighborhoo...</td>\n",
              "      <td>Film &amp; Video</td>\n",
              "      <td>Film &amp; Video</td>\n",
              "      <td>USD</td>\n",
              "      <td>2015-08-29 01:00:00</td>\n",
              "      <td>19500</td>\n",
              "      <td>2015-07-04 08:35:03</td>\n",
              "      <td>1283</td>\n",
              "      <td>canceled</td>\n",
              "      <td>14</td>\n",
              "      <td>US</td>\n",
              "      <td>1283</td>\n",
              "      <td></td>\n",
              "      <td></td>\n",
              "      <td></td>\n",
              "    </tr>\n",
              "    <tr>\n",
              "      <th>4</th>\n",
              "      <td>1000014025</td>\n",
              "      <td>Monarch Espresso Bar</td>\n",
              "      <td>Restaurants</td>\n",
              "      <td>Food</td>\n",
              "      <td>USD</td>\n",
              "      <td>2016-04-01 13:38:27</td>\n",
              "      <td>50000</td>\n",
              "      <td>2016-02-26 13:38:27</td>\n",
              "      <td>52375</td>\n",
              "      <td>successful</td>\n",
              "      <td>224</td>\n",
              "      <td>US</td>\n",
              "      <td>52375</td>\n",
              "      <td></td>\n",
              "      <td></td>\n",
              "      <td></td>\n",
              "    </tr>\n",
              "  </tbody>\n",
              "</table>\n",
              "</div>\n",
              "      <button class=\"colab-df-convert\" onclick=\"convertToInteractive('df-741bbc60-679b-48af-93f5-98804448b74c')\"\n",
              "              title=\"Convert this dataframe to an interactive table.\"\n",
              "              style=\"display:none;\">\n",
              "        \n",
              "  <svg xmlns=\"http://www.w3.org/2000/svg\" height=\"24px\"viewBox=\"0 0 24 24\"\n",
              "       width=\"24px\">\n",
              "    <path d=\"M0 0h24v24H0V0z\" fill=\"none\"/>\n",
              "    <path d=\"M18.56 5.44l.94 2.06.94-2.06 2.06-.94-2.06-.94-.94-2.06-.94 2.06-2.06.94zm-11 1L8.5 8.5l.94-2.06 2.06-.94-2.06-.94L8.5 2.5l-.94 2.06-2.06.94zm10 10l.94 2.06.94-2.06 2.06-.94-2.06-.94-.94-2.06-.94 2.06-2.06.94z\"/><path d=\"M17.41 7.96l-1.37-1.37c-.4-.4-.92-.59-1.43-.59-.52 0-1.04.2-1.43.59L10.3 9.45l-7.72 7.72c-.78.78-.78 2.05 0 2.83L4 21.41c.39.39.9.59 1.41.59.51 0 1.02-.2 1.41-.59l7.78-7.78 2.81-2.81c.8-.78.8-2.07 0-2.86zM5.41 20L4 18.59l7.72-7.72 1.47 1.35L5.41 20z\"/>\n",
              "  </svg>\n",
              "      </button>\n",
              "      \n",
              "  <style>\n",
              "    .colab-df-container {\n",
              "      display:flex;\n",
              "      flex-wrap:wrap;\n",
              "      gap: 12px;\n",
              "    }\n",
              "\n",
              "    .colab-df-convert {\n",
              "      background-color: #E8F0FE;\n",
              "      border: none;\n",
              "      border-radius: 50%;\n",
              "      cursor: pointer;\n",
              "      display: none;\n",
              "      fill: #1967D2;\n",
              "      height: 32px;\n",
              "      padding: 0 0 0 0;\n",
              "      width: 32px;\n",
              "    }\n",
              "\n",
              "    .colab-df-convert:hover {\n",
              "      background-color: #E2EBFA;\n",
              "      box-shadow: 0px 1px 2px rgba(60, 64, 67, 0.3), 0px 1px 3px 1px rgba(60, 64, 67, 0.15);\n",
              "      fill: #174EA6;\n",
              "    }\n",
              "\n",
              "    [theme=dark] .colab-df-convert {\n",
              "      background-color: #3B4455;\n",
              "      fill: #D2E3FC;\n",
              "    }\n",
              "\n",
              "    [theme=dark] .colab-df-convert:hover {\n",
              "      background-color: #434B5C;\n",
              "      box-shadow: 0px 1px 3px 1px rgba(0, 0, 0, 0.15);\n",
              "      filter: drop-shadow(0px 1px 2px rgba(0, 0, 0, 0.3));\n",
              "      fill: #FFFFFF;\n",
              "    }\n",
              "  </style>\n",
              "\n",
              "      <script>\n",
              "        const buttonEl =\n",
              "          document.querySelector('#df-741bbc60-679b-48af-93f5-98804448b74c button.colab-df-convert');\n",
              "        buttonEl.style.display =\n",
              "          google.colab.kernel.accessAllowed ? 'block' : 'none';\n",
              "\n",
              "        async function convertToInteractive(key) {\n",
              "          const element = document.querySelector('#df-741bbc60-679b-48af-93f5-98804448b74c');\n",
              "          const dataTable =\n",
              "            await google.colab.kernel.invokeFunction('convertToInteractive',\n",
              "                                                     [key], {});\n",
              "          if (!dataTable) return;\n",
              "\n",
              "          const docLinkHtml = 'Like what you see? Visit the ' +\n",
              "            '<a target=\"_blank\" href=https://colab.research.google.com/notebooks/data_table.ipynb>data table notebook</a>'\n",
              "            + ' to learn more about interactive tables.';\n",
              "          element.innerHTML = '';\n",
              "          dataTable['output_type'] = 'display_data';\n",
              "          await google.colab.output.renderOutput(dataTable, element);\n",
              "          const docLink = document.createElement('div');\n",
              "          docLink.innerHTML = docLinkHtml;\n",
              "          element.appendChild(docLink);\n",
              "        }\n",
              "      </script>\n",
              "    </div>\n",
              "  </div>\n",
              "  "
            ]
          },
          "metadata": {},
          "execution_count": 5
        }
      ]
    },
    {
      "cell_type": "code",
      "source": [
        "# Pour obtenir le nombre de lignes et de colonnes du dataframe\n",
        "nombre_lignes, nombre_colonnes = df.shape\n",
        "\n",
        "print(\"Nombre de lignes :\", nombre_lignes)\n",
        "print(\"Nombre de colonnes :\", nombre_colonnes)\n",
        "print(\"Nom des colonnes :\", df.columns)"
      ],
      "metadata": {
        "colab": {
          "base_uri": "https://localhost:8080/"
        },
        "id": "0mBTosMmbCXR",
        "outputId": "d8817c2d-64c5-47c3-dfb9-01c137d6a372"
      },
      "execution_count": 6,
      "outputs": [
        {
          "output_type": "stream",
          "name": "stdout",
          "text": [
            "Nombre de lignes : 323750\n",
            "Nombre de colonnes : 16\n",
            "Nom des colonnes : Index(['ID ', 'name ', 'category ', 'main_category ', 'currency ', 'deadline ',\n",
            "       'goal ', 'launched ', 'pledged ', 'state ', 'backers ', 'country ',\n",
            "       'usd pledged ', '', '', ''],\n",
            "      dtype='object')\n"
          ]
        }
      ]
    },
    {
      "cell_type": "code",
      "source": [
        "# Les colonnes ont un espace en trop dans leur nom...\n",
        "df = df.rename(columns=lambda x: x.replace(' ', ''))\n",
        "\n",
        "# Supprimer les 4 dernières colonnes qui ne sont pas définis\n",
        "df = df.iloc[:, :-3] # Sélectionne toutes les lignes et les colonnes jusqu'`a x\n",
        "\n",
        "df.columns"
      ],
      "metadata": {
        "colab": {
          "base_uri": "https://localhost:8080/"
        },
        "id": "4a_C52_UyO4f",
        "outputId": "e0031f58-13ae-4cdf-859e-ebe487985ad6"
      },
      "execution_count": 7,
      "outputs": [
        {
          "output_type": "execute_result",
          "data": {
            "text/plain": [
              "Index(['ID', 'name', 'category', 'main_category', 'currency', 'deadline',\n",
              "       'goal', 'launched', 'pledged', 'state', 'backers', 'country',\n",
              "       'usdpledged'],\n",
              "      dtype='object')"
            ]
          },
          "metadata": {},
          "execution_count": 7
        }
      ]
    },
    {
      "cell_type": "markdown",
      "source": [
        "# Exploration des données\n",
        "\n",
        "### Définition des colonnes et pistes d'exploration\n",
        "Colonnes :\n",
        "- ID : identifiant unique\n",
        "- Name : il pourrait être intéressant d'étudier son impact dans la compagne.\n",
        "  - Plus le titre est long, moins il a d'impact ?\n",
        "  - Si le titre est trop court, il n'y a pas assez de détails, les gens seraient moins intéressés ?\n",
        "  - Un nombre adéquat de caratères pour qu'il ait un impact ?\n",
        "  - NLP : étudier sa sémantique (titre positif/ négatif - sentiment analysis) -- Pour des raisons de temps, on écarte cette hypothèse, pour commencer\n",
        "- Category & Main Category : Combien il a de catégories ? .\n",
        "  - Certaines catégories ont plus d'impact que d'autres ?\n",
        "  - Est ce qu'il vaut mieux prendre main_category pour être plus général ou est-ce que le moment ne serait pas assez précis ?\n",
        "- Deadline & Launched : date de lancement et de fin de la campagne.\n",
        "  - Est-ce qu'il y a des périodes où il y a le plus de campagnes réussites ? Le moins ? (année/ mois)\n",
        "  - Est-ce que la durée d'une campagne a un impact sur sa réussite (ajouter nouvelle colonne qui va calculer la durée)\n",
        "- Goal : le montant à atteindre.\n",
        "  - Est-ce qu'un goal élevé impacte la réussite de la campagne ?\n",
        "  - Quelle est la répartition des Goals, par catégorie ? Peut-être que certaines catégories nécéssitent plus de moyen que d'autres ?\n",
        "  - Quelle est la moyenne des Goals par catégorie ? Est-ce que d'être au dessus ou en dessus de cette moyenne impacte la réussite de la campagne ?\n",
        "- Pledged & Usd pledged : promesses de dons.\n",
        "- Backers : contributeurs, nombre de personnes différentes qui ont fait une promesse de dons.\n",
        "  - Plus il y a un goal haut, plus il y a de contributeurs ?\n",
        "  - Y a t il un minimum de contributeurs moyen à avoir pour réussir une campagne ?\n",
        "- Country : pays dans lequel a lieu la campagne.\n",
        "  - Quelle est la répartition des pays ?\n",
        "  - Le taux de réussite ?\n",
        "- Currency : monnaie.\n",
        "  - En lien direct avec les pays ? Est-ce qu'un pays n'a pas sa monnaie ?\n",
        "  - Il y a plus de dons en USD ?\n",
        "- State : l'état de la compagne, sera notre **Target** pour le modèle.\n",
        "  - Regarder la répartition des résultats. Jeu équilibré ?\n",
        "  - Combien il y a de canceled ?\n",
        "  - Est-ce qu'on les retire du jeu pour le modèle ? Quelle est leur pertinence ?\n",
        "\n",
        "NB : c'est dommage que l'on n'est pas la date du state. Ca pourrait nous indiquer pourquoi une campagne a été cancelled par exemple."
      ],
      "metadata": {
        "id": "jCcQbWGQZnMn"
      }
    },
    {
      "cell_type": "code",
      "source": [
        "df.head()"
      ],
      "metadata": {
        "colab": {
          "base_uri": "https://localhost:8080/",
          "height": 206
        },
        "id": "bhxt6GPPZZZ1",
        "outputId": "49ca3976-9f96-4fdb-a7e9-ac1ffc329b85"
      },
      "execution_count": 8,
      "outputs": [
        {
          "output_type": "execute_result",
          "data": {
            "text/plain": [
              "           ID                                               name  \\\n",
              "0  1000002330                    The Songs of Adelaide & Abullah   \n",
              "1  1000004038                                     Where is Hank?   \n",
              "2  1000007540  ToshiCapital Rekordz Needs Help to Complete Album   \n",
              "3  1000011046  Community Film Project: The Art of Neighborhoo...   \n",
              "4  1000014025                               Monarch Espresso Bar   \n",
              "\n",
              "         category main_category currency             deadline   goal  \\\n",
              "0          Poetry    Publishing      GBP  2015-10-09 11:36:00   1000   \n",
              "1  Narrative Film  Film & Video      USD  2013-02-26 00:20:50  45000   \n",
              "2           Music         Music      USD  2012-04-16 04:24:11   5000   \n",
              "3    Film & Video  Film & Video      USD  2015-08-29 01:00:00  19500   \n",
              "4     Restaurants          Food      USD  2016-04-01 13:38:27  50000   \n",
              "\n",
              "              launched pledged       state backers country usdpledged  \n",
              "0  2015-08-11 12:12:28       0      failed       0      GB          0  \n",
              "1  2013-01-12 00:20:50     220      failed       3      US        220  \n",
              "2  2012-03-17 03:24:11       1      failed       1      US          1  \n",
              "3  2015-07-04 08:35:03    1283    canceled      14      US       1283  \n",
              "4  2016-02-26 13:38:27   52375  successful     224      US      52375  "
            ],
            "text/html": [
              "\n",
              "  <div id=\"df-02e19869-aa0a-477c-9749-21cc50e7993b\">\n",
              "    <div class=\"colab-df-container\">\n",
              "      <div>\n",
              "<style scoped>\n",
              "    .dataframe tbody tr th:only-of-type {\n",
              "        vertical-align: middle;\n",
              "    }\n",
              "\n",
              "    .dataframe tbody tr th {\n",
              "        vertical-align: top;\n",
              "    }\n",
              "\n",
              "    .dataframe thead th {\n",
              "        text-align: right;\n",
              "    }\n",
              "</style>\n",
              "<table border=\"1\" class=\"dataframe\">\n",
              "  <thead>\n",
              "    <tr style=\"text-align: right;\">\n",
              "      <th></th>\n",
              "      <th>ID</th>\n",
              "      <th>name</th>\n",
              "      <th>category</th>\n",
              "      <th>main_category</th>\n",
              "      <th>currency</th>\n",
              "      <th>deadline</th>\n",
              "      <th>goal</th>\n",
              "      <th>launched</th>\n",
              "      <th>pledged</th>\n",
              "      <th>state</th>\n",
              "      <th>backers</th>\n",
              "      <th>country</th>\n",
              "      <th>usdpledged</th>\n",
              "    </tr>\n",
              "  </thead>\n",
              "  <tbody>\n",
              "    <tr>\n",
              "      <th>0</th>\n",
              "      <td>1000002330</td>\n",
              "      <td>The Songs of Adelaide &amp; Abullah</td>\n",
              "      <td>Poetry</td>\n",
              "      <td>Publishing</td>\n",
              "      <td>GBP</td>\n",
              "      <td>2015-10-09 11:36:00</td>\n",
              "      <td>1000</td>\n",
              "      <td>2015-08-11 12:12:28</td>\n",
              "      <td>0</td>\n",
              "      <td>failed</td>\n",
              "      <td>0</td>\n",
              "      <td>GB</td>\n",
              "      <td>0</td>\n",
              "    </tr>\n",
              "    <tr>\n",
              "      <th>1</th>\n",
              "      <td>1000004038</td>\n",
              "      <td>Where is Hank?</td>\n",
              "      <td>Narrative Film</td>\n",
              "      <td>Film &amp; Video</td>\n",
              "      <td>USD</td>\n",
              "      <td>2013-02-26 00:20:50</td>\n",
              "      <td>45000</td>\n",
              "      <td>2013-01-12 00:20:50</td>\n",
              "      <td>220</td>\n",
              "      <td>failed</td>\n",
              "      <td>3</td>\n",
              "      <td>US</td>\n",
              "      <td>220</td>\n",
              "    </tr>\n",
              "    <tr>\n",
              "      <th>2</th>\n",
              "      <td>1000007540</td>\n",
              "      <td>ToshiCapital Rekordz Needs Help to Complete Album</td>\n",
              "      <td>Music</td>\n",
              "      <td>Music</td>\n",
              "      <td>USD</td>\n",
              "      <td>2012-04-16 04:24:11</td>\n",
              "      <td>5000</td>\n",
              "      <td>2012-03-17 03:24:11</td>\n",
              "      <td>1</td>\n",
              "      <td>failed</td>\n",
              "      <td>1</td>\n",
              "      <td>US</td>\n",
              "      <td>1</td>\n",
              "    </tr>\n",
              "    <tr>\n",
              "      <th>3</th>\n",
              "      <td>1000011046</td>\n",
              "      <td>Community Film Project: The Art of Neighborhoo...</td>\n",
              "      <td>Film &amp; Video</td>\n",
              "      <td>Film &amp; Video</td>\n",
              "      <td>USD</td>\n",
              "      <td>2015-08-29 01:00:00</td>\n",
              "      <td>19500</td>\n",
              "      <td>2015-07-04 08:35:03</td>\n",
              "      <td>1283</td>\n",
              "      <td>canceled</td>\n",
              "      <td>14</td>\n",
              "      <td>US</td>\n",
              "      <td>1283</td>\n",
              "    </tr>\n",
              "    <tr>\n",
              "      <th>4</th>\n",
              "      <td>1000014025</td>\n",
              "      <td>Monarch Espresso Bar</td>\n",
              "      <td>Restaurants</td>\n",
              "      <td>Food</td>\n",
              "      <td>USD</td>\n",
              "      <td>2016-04-01 13:38:27</td>\n",
              "      <td>50000</td>\n",
              "      <td>2016-02-26 13:38:27</td>\n",
              "      <td>52375</td>\n",
              "      <td>successful</td>\n",
              "      <td>224</td>\n",
              "      <td>US</td>\n",
              "      <td>52375</td>\n",
              "    </tr>\n",
              "  </tbody>\n",
              "</table>\n",
              "</div>\n",
              "      <button class=\"colab-df-convert\" onclick=\"convertToInteractive('df-02e19869-aa0a-477c-9749-21cc50e7993b')\"\n",
              "              title=\"Convert this dataframe to an interactive table.\"\n",
              "              style=\"display:none;\">\n",
              "        \n",
              "  <svg xmlns=\"http://www.w3.org/2000/svg\" height=\"24px\"viewBox=\"0 0 24 24\"\n",
              "       width=\"24px\">\n",
              "    <path d=\"M0 0h24v24H0V0z\" fill=\"none\"/>\n",
              "    <path d=\"M18.56 5.44l.94 2.06.94-2.06 2.06-.94-2.06-.94-.94-2.06-.94 2.06-2.06.94zm-11 1L8.5 8.5l.94-2.06 2.06-.94-2.06-.94L8.5 2.5l-.94 2.06-2.06.94zm10 10l.94 2.06.94-2.06 2.06-.94-2.06-.94-.94-2.06-.94 2.06-2.06.94z\"/><path d=\"M17.41 7.96l-1.37-1.37c-.4-.4-.92-.59-1.43-.59-.52 0-1.04.2-1.43.59L10.3 9.45l-7.72 7.72c-.78.78-.78 2.05 0 2.83L4 21.41c.39.39.9.59 1.41.59.51 0 1.02-.2 1.41-.59l7.78-7.78 2.81-2.81c.8-.78.8-2.07 0-2.86zM5.41 20L4 18.59l7.72-7.72 1.47 1.35L5.41 20z\"/>\n",
              "  </svg>\n",
              "      </button>\n",
              "      \n",
              "  <style>\n",
              "    .colab-df-container {\n",
              "      display:flex;\n",
              "      flex-wrap:wrap;\n",
              "      gap: 12px;\n",
              "    }\n",
              "\n",
              "    .colab-df-convert {\n",
              "      background-color: #E8F0FE;\n",
              "      border: none;\n",
              "      border-radius: 50%;\n",
              "      cursor: pointer;\n",
              "      display: none;\n",
              "      fill: #1967D2;\n",
              "      height: 32px;\n",
              "      padding: 0 0 0 0;\n",
              "      width: 32px;\n",
              "    }\n",
              "\n",
              "    .colab-df-convert:hover {\n",
              "      background-color: #E2EBFA;\n",
              "      box-shadow: 0px 1px 2px rgba(60, 64, 67, 0.3), 0px 1px 3px 1px rgba(60, 64, 67, 0.15);\n",
              "      fill: #174EA6;\n",
              "    }\n",
              "\n",
              "    [theme=dark] .colab-df-convert {\n",
              "      background-color: #3B4455;\n",
              "      fill: #D2E3FC;\n",
              "    }\n",
              "\n",
              "    [theme=dark] .colab-df-convert:hover {\n",
              "      background-color: #434B5C;\n",
              "      box-shadow: 0px 1px 3px 1px rgba(0, 0, 0, 0.15);\n",
              "      filter: drop-shadow(0px 1px 2px rgba(0, 0, 0, 0.3));\n",
              "      fill: #FFFFFF;\n",
              "    }\n",
              "  </style>\n",
              "\n",
              "      <script>\n",
              "        const buttonEl =\n",
              "          document.querySelector('#df-02e19869-aa0a-477c-9749-21cc50e7993b button.colab-df-convert');\n",
              "        buttonEl.style.display =\n",
              "          google.colab.kernel.accessAllowed ? 'block' : 'none';\n",
              "\n",
              "        async function convertToInteractive(key) {\n",
              "          const element = document.querySelector('#df-02e19869-aa0a-477c-9749-21cc50e7993b');\n",
              "          const dataTable =\n",
              "            await google.colab.kernel.invokeFunction('convertToInteractive',\n",
              "                                                     [key], {});\n",
              "          if (!dataTable) return;\n",
              "\n",
              "          const docLinkHtml = 'Like what you see? Visit the ' +\n",
              "            '<a target=\"_blank\" href=https://colab.research.google.com/notebooks/data_table.ipynb>data table notebook</a>'\n",
              "            + ' to learn more about interactive tables.';\n",
              "          element.innerHTML = '';\n",
              "          dataTable['output_type'] = 'display_data';\n",
              "          await google.colab.output.renderOutput(dataTable, element);\n",
              "          const docLink = document.createElement('div');\n",
              "          docLink.innerHTML = docLinkHtml;\n",
              "          element.appendChild(docLink);\n",
              "        }\n",
              "      </script>\n",
              "    </div>\n",
              "  </div>\n",
              "  "
            ]
          },
          "metadata": {},
          "execution_count": 8
        }
      ]
    },
    {
      "cell_type": "code",
      "source": [
        "# Pour afficher les types des colonnes\n",
        "print(df.dtypes)\n",
        "\n",
        "print('--------------------------------')\n",
        "\n",
        "# Pour afficher le nombre de valeurs nulles ou NaN par colonne\n",
        "print(df.isnull().sum())"
      ],
      "metadata": {
        "colab": {
          "base_uri": "https://localhost:8080/"
        },
        "id": "fHM4pf8kZaSa",
        "outputId": "2bdc2dc8-bef7-4efc-c2cc-70d9ad96826f"
      },
      "execution_count": 9,
      "outputs": [
        {
          "output_type": "stream",
          "name": "stdout",
          "text": [
            "ID               object\n",
            "name             object\n",
            "category         object\n",
            "main_category    object\n",
            "currency         object\n",
            "deadline         object\n",
            "goal             object\n",
            "launched         object\n",
            "pledged          object\n",
            "state            object\n",
            "backers          object\n",
            "country          object\n",
            "usdpledged       object\n",
            "dtype: object\n",
            "--------------------------------\n",
            "ID               0\n",
            "name             0\n",
            "category         0\n",
            "main_category    0\n",
            "currency         0\n",
            "deadline         0\n",
            "goal             0\n",
            "launched         0\n",
            "pledged          0\n",
            "state            0\n",
            "backers          0\n",
            "country          0\n",
            "usdpledged       1\n",
            "dtype: int64\n"
          ]
        }
      ]
    },
    {
      "cell_type": "code",
      "source": [
        "# Convertir les colonnes avec des valeurs exclusivement numériques\n",
        "# Toutes les lignes qui n'ont pas une valeur numérique sur la colonne goal, pledged et backers, on va les supprimer du jeu de données\n",
        "rows = df.shape[0]\n",
        "\n",
        "for column in ['goal', 'pledged', 'backers']:\n",
        "  df[column] = pd.to_numeric(df[column], errors='coerce')\n",
        "  df = df.dropna(subset=[column])\n",
        "  df = df.reset_index(drop=True)\n",
        "\n",
        "print(rows - df.shape[0],\" lignes supprimées\")"
      ],
      "metadata": {
        "colab": {
          "base_uri": "https://localhost:8080/"
        },
        "id": "EnNQ_PUdMxY8",
        "outputId": "fbfca94e-c019-4dc6-8a93-a0af19a2b996"
      },
      "execution_count": 10,
      "outputs": [
        {
          "output_type": "stream",
          "name": "stdout",
          "text": [
            "74  lignes supprimées\n"
          ]
        }
      ]
    },
    {
      "cell_type": "code",
      "source": [
        "def create_pie(x, title):\n",
        "  fig, ax = plt.subplots()\n",
        "\n",
        "  ax.pie(x.values, labels=x.index, radius=3, center=(4, 4),\n",
        "        wedgeprops={\"linewidth\": 1, \"edgecolor\": \"white\"}, frame=True, autopct='%1.1f%%')\n",
        "  ax.set(xlim=(0, 8), xticks=np.arange(1, 8),\n",
        "        ylim=(0, 8), yticks=np.arange(1, 8))\n",
        "  plt.title(title)\n",
        "  plt.axis('off')\n",
        "  plt.show()"
      ],
      "metadata": {
        "id": "wBpiM_xvr0Nj"
      },
      "execution_count": 11,
      "outputs": []
    },
    {
      "cell_type": "markdown",
      "source": [
        "## Étude du State (variable target) et de sa répartion"
      ],
      "metadata": {
        "id": "l33huH5FwEu2"
      }
    },
    {
      "cell_type": "code",
      "source": [
        "x = df[\"state\"].value_counts()\n",
        "create_pie(x, \"Répartition de la variable state\")"
      ],
      "metadata": {
        "colab": {
          "base_uri": "https://localhost:8080/",
          "height": 429
        },
        "id": "B4_Wd41mZakM",
        "outputId": "8c5325a9-f247-41c9-daab-184a1b253238"
      },
      "execution_count": 12,
      "outputs": [
        {
          "output_type": "display_data",
          "data": {
            "text/plain": [
              "<Figure size 640x480 with 1 Axes>"
            ],
            "image/png": "[encoded data removed]"
          },
          "metadata": {}
        }
      ]
    },
    {
      "cell_type": "code",
      "source": [
        "df['state'].unique()"
      ],
      "metadata": {
        "colab": {
          "base_uri": "https://localhost:8080/"
        },
        "id": "6s0YRvwp0ge5",
        "outputId": "199d0209-90de-4547-829e-8c9339208fc6"
      },
      "execution_count": 13,
      "outputs": [
        {
          "output_type": "execute_result",
          "data": {
            "text/plain": [
              "array(['failed', 'canceled', 'successful', 'live', 'undefined',\n",
              "       'suspended'], dtype=object)"
            ]
          },
          "metadata": {},
          "execution_count": 13
        }
      ]
    },
    {
      "cell_type": "code",
      "source": [
        "# On va remplacer les states différent de failed et successful pour pouvoir résoudre un problème de classification binaire après\n",
        "class FormatTarget(BaseEstimator, TransformerMixin):\n",
        "    def __init__(self):\n",
        "      pass\n",
        "\n",
        "    def fit(self, X, y=None):\n",
        "        return self\n",
        "\n",
        "    def transform(self, X):\n",
        "      condition = (X['state'].isin(['live', 'undefined'])) & (X['pledged'] >= X['goal'])\n",
        "      X['state'] = np.where(condition, 'successful', np.where(X['state'].isin(['live', 'undefined']), 'failed', X['state']))\n",
        "      X['state'] = X['state'].replace(['canceled', 'suspended'], 'failed')\n",
        "      return X"
      ],
      "metadata": {
        "id": "FlNy3izl4ABw"
      },
      "execution_count": 14,
      "outputs": []
    },
    {
      "cell_type": "code",
      "source": [
        "format_target = FormatTarget()\n",
        "df = format_target.transform(df)"
      ],
      "metadata": {
        "id": "hMT-CafaJEVP"
      },
      "execution_count": 15,
      "outputs": []
    },
    {
      "cell_type": "code",
      "source": [
        "x = df[\"state\"].value_counts()\n",
        "create_pie(x, \"Répartition de la variable state\")\n",
        "# On a donc une répartition non équitable entre failed et successful"
      ],
      "metadata": {
        "colab": {
          "base_uri": "https://localhost:8080/",
          "height": 429
        },
        "id": "A_vqrBeO4t4a",
        "outputId": "c273e3bc-d1d8-47e8-a68a-a3f770b69f69"
      },
      "execution_count": 16,
      "outputs": [
        {
          "output_type": "display_data",
          "data": {
            "text/plain": [
              "<Figure size 640x480 with 1 Axes>"
            ],
            "image/png": "[encoded data removed]"
          },
          "metadata": {}
        }
      ]
    },
    {
      "cell_type": "code",
      "source": [],
      "metadata": {
        "id": "S1O9eGn45S7S"
      },
      "execution_count": 16,
      "outputs": []
    },
    {
      "cell_type": "markdown",
      "source": [
        "# Exploration des catégories\n",
        "\n",
        " Est-ce que certaines catégories de projets ont tendance à être plus réussies que d'autres ?"
      ],
      "metadata": {
        "id": "wtkzPghqq9rG"
      }
    },
    {
      "cell_type": "code",
      "source": [
        "print(\"Nombre de catégorie: \", len(df['category'].unique()))\n",
        "print(\"Nombre de catégorie principale: \", len(df['main_category'].unique()))"
      ],
      "metadata": {
        "colab": {
          "base_uri": "https://localhost:8080/"
        },
        "id": "0V24Xfd8q7HE",
        "outputId": "e883dc41-20d2-4bc8-a11d-d8e56c3d2b95"
      },
      "execution_count": 17,
      "outputs": [
        {
          "output_type": "stream",
          "name": "stdout",
          "text": [
            "Nombre de catégorie:  158\n",
            "Nombre de catégorie principale:  15\n"
          ]
        }
      ]
    },
    {
      "cell_type": "code",
      "source": [
        "x = df[\"category\"].value_counts()\n",
        "create_pie(x, \"Répartition de la variable category\")\n",
        "\n",
        "# Il y a beaucoup trop de catégories différentes pour pouvoir les exploiter et généraliser leur succès"
      ],
      "metadata": {
        "colab": {
          "base_uri": "https://localhost:8080/",
          "height": 429
        },
        "id": "o53uJs_drPDH",
        "outputId": "de7cdada-f6ca-467b-ea4d-26c4c60c0121"
      },
      "execution_count": 18,
      "outputs": [
        {
          "output_type": "display_data",
          "data": {
            "text/plain": [
              "<Figure size 640x480 with 1 Axes>"
            ],
            "image/png": "[encoded data removed]"
          },
          "metadata": {}
        }
      ]
    },
    {
      "cell_type": "code",
      "source": [
        "x = df[\"main_category\"].value_counts()\n",
        "create_pie(x, \"Répartition de la variable main_category\")\n",
        "\n",
        "# La répartition des main_category n'est pas équitable... Néanmoins, 5 catégories princpales se démarquent : Technology, Games, Publishing, Music, Film & Video"
      ],
      "metadata": {
        "colab": {
          "base_uri": "https://localhost:8080/",
          "height": 429
        },
        "id": "8vJBkYOtq2Pc",
        "outputId": "0ca113dd-73aa-4239-889c-f61361a49d86"
      },
      "execution_count": 19,
      "outputs": [
        {
          "output_type": "display_data",
          "data": {
            "text/plain": [
              "<Figure size 640x480 with 1 Axes>"
            ],
            "image/png": "[encoded data removed]"
          },
          "metadata": {}
        }
      ]
    },
    {
      "cell_type": "code",
      "source": [
        "grouped = df.groupby(['main_category', 'state']).size().reset_index(name='count')\n",
        "\n",
        "# Pivotement des données pour obtenir une matrice de croisement\n",
        "cross_matrix = pd.pivot_table(grouped, values='count', index='main_category', columns='state', fill_value=0)\n",
        "\n",
        "# Calcul des taux de succès et d'échecs\n",
        "cross_matrix['success rate'] = cross_matrix['successful'] / (cross_matrix['successful'] + cross_matrix['failed'])\n",
        "cross_matrix['failure rate'] = cross_matrix['failed'] / (cross_matrix['successful'] + cross_matrix['failed'])\n",
        "\n",
        "# Calcul du pourcentage de projets par catégorie\n",
        "df_matrix = pd.DataFrame(cross_matrix, columns=['failed', 'successful', 'success rate', 'failure rate'])\n",
        "total_success = df_matrix['successful'].sum()\n",
        "total_failed = df_matrix['failed'].sum()\n",
        "\n",
        "df_matrix['distribution rate'] = df_matrix.apply(lambda row: (row['failed'] + row['successful']) / (total_failed + total_success) * 100, axis=1)\n",
        "\n",
        "# Affichage de la matrice de croisement avec les taux de succès et d'échecs\n",
        "df_matrix['success rate'] = df_matrix['success rate'].round(2)\n",
        "df_matrix['failure rate'] = df_matrix['failure rate'].round(2)\n",
        "df_matrix['distribution rate'] = df_matrix['distribution rate'].round(2)\n",
        "\n",
        "pd.set_option('display.width', 1000)\n",
        "print(df_matrix)\n",
        "\n",
        "# theater, dance et comics ont un taux de réussite > à 50%\n",
        "# Music a un taux de réussite proche de 50 %\n",
        "# Ce n'est pas parce qu'il y a beaucoup de campagnes sur une catégorie que cela signifie que la catégorie a un fort taux de réussite\n",
        "# On peut dire que les catégories de musique, theatre, dance et comics sont plus susceptibles de réussir leur campagne comparé aux autres catégories"
      ],
      "metadata": {
        "colab": {
          "base_uri": "https://localhost:8080/"
        },
        "id": "_-ijOvGStCoF",
        "outputId": "525e99a9-17fb-49ae-f75c-4092232efcfe"
      },
      "execution_count": 20,
      "outputs": [
        {
          "output_type": "stream",
          "name": "stdout",
          "text": [
            "               failed  successful  success rate  failure rate  distribution rate\n",
            "main_category                                                                   \n",
            "Art             14305        9715          0.40          0.60               7.42\n",
            "Comics           4213        4544          0.52          0.48               2.71\n",
            "Crafts           5506        1685          0.23          0.77               2.22\n",
            "Dance            1270        2106          0.62          0.38               1.04\n",
            "Design          15792        8111          0.34          0.66               7.38\n",
            "Fashion         14050        4362          0.24          0.76               5.69\n",
            "Film & Video    35920       21813          0.38          0.62              17.84\n",
            "Food            15952        5287          0.25          0.75               6.56\n",
            "Games           18531        9506          0.34          0.66               8.66\n",
            "Journalism       3209         873          0.21          0.79               1.26\n",
            "Music           23642       23131          0.49          0.51              14.45\n",
            "Photography      6769        2913          0.30          0.70               2.99\n",
            "Publishing      23998       10343          0.30          0.70              10.61\n",
            "Technology      21007        5151          0.20          0.80               8.08\n",
            "Theater          3969        6003          0.60          0.40               3.08\n"
          ]
        }
      ]
    },
    {
      "cell_type": "code",
      "source": [
        "plt.figure(figsize=(20,10))\n",
        "sns.countplot(x='main_category', hue='state', data=df)"
      ],
      "metadata": {
        "colab": {
          "base_uri": "https://localhost:8080/",
          "height": 867
        },
        "id": "Z_o1yiQOdE1-",
        "outputId": "0b89f3ef-5ccb-4b62-b839-f5cd594cac87"
      },
      "execution_count": 21,
      "outputs": [
        {
          "output_type": "execute_result",
          "data": {
            "text/plain": [
              "<Axes: xlabel='main_category', ylabel='count'>"
            ]
          },
          "metadata": {},
          "execution_count": 21
        },
        {
          "output_type": "display_data",
          "data": {
            "text/plain": [
              "<Figure size 2000x1000 with 1 Axes>"
            ],
            "image/png": "[encoded data removed]"
          },
          "metadata": {}
        }
      ]
    },
    {
      "cell_type": "code",
      "source": [],
      "metadata": {
        "id": "LQHTugh00r8D"
      },
      "execution_count": 21,
      "outputs": []
    },
    {
      "cell_type": "markdown",
      "source": [
        "# Exploration de la durée d'une campagne\n",
        "\n",
        "Est-ce que la durée d'une campagne influence son succès ? Les campagnes plus courtes ou plus longues ont-elles des taux de réussite différents ?"
      ],
      "metadata": {
        "id": "ZrifyhLtq9yH"
      }
    },
    {
      "cell_type": "code",
      "source": [
        "class CalculateElapsedTime(BaseEstimator, TransformerMixin):\n",
        "    def __init__(self):\n",
        "      pass\n",
        "\n",
        "    def fit(self, X, y=None):\n",
        "        return self\n",
        "\n",
        "    def transform(self, X):\n",
        "      X['deadline'] = pd.to_datetime(X['deadline'])\n",
        "      X['launched'] = pd.to_datetime(X['launched'])\n",
        "      X['time_elapsed'] = X['deadline'] - X['launched']\n",
        "      X['time_elapsed'] = X['time_elapsed'].dt.total_seconds()\n",
        "      return X"
      ],
      "metadata": {
        "id": "nYeoCKTBLltO"
      },
      "execution_count": 22,
      "outputs": []
    },
    {
      "cell_type": "code",
      "source": [
        "calculate_elapsed_time = CalculateElapsedTime()\n",
        "df = calculate_elapsed_time.transform(df)"
      ],
      "metadata": {
        "id": "5fSGK0lVLmev"
      },
      "execution_count": 23,
      "outputs": []
    },
    {
      "cell_type": "code",
      "source": [
        "df['time_elapsed'].describe()\n",
        "\n",
        "# Beaucoup de valeurs eloigées...\n",
        "# Puisque le min et le max sont très différents, on va utiliser une transformation logarithmique pour étaler les valeurs sur une plage plus étroite"
      ],
      "metadata": {
        "colab": {
          "base_uri": "https://localhost:8080/"
        },
        "id": "O78MA2wa5rvH",
        "outputId": "4559ff56-669a-4057-f74d-081e8d483bf4"
      },
      "execution_count": 24,
      "outputs": [
        {
          "output_type": "execute_result",
          "data": {
            "text/plain": [
              "count    3.236760e+05\n",
              "mean     2.999903e+06\n",
              "std      6.144961e+06\n",
              "min      8.640000e+04\n",
              "25%      2.592000e+06\n",
              "50%      2.592000e+06\n",
              "75%      3.279600e+06\n",
              "max      1.446279e+09\n",
              "Name: time_elapsed, dtype: float64"
            ]
          },
          "metadata": {},
          "execution_count": 24
        }
      ]
    },
    {
      "cell_type": "code",
      "source": [
        "class NormalizedLogarithme(BaseEstimator, TransformerMixin):\n",
        "  def __init__(self, col):\n",
        "        self.col = col\n",
        "\n",
        "  def fit(self, X, y=None):\n",
        "      return self\n",
        "\n",
        "  def transform(self, X):\n",
        "    col_values = X[self.col].values\n",
        "    log_transformed_values = np.log1p(col_values)\n",
        "    X[\"%s%s\" % (self.col, '_normalized')] = log_transformed_values\n",
        "    return X"
      ],
      "metadata": {
        "id": "aNizkB1K3Lvy"
      },
      "execution_count": 25,
      "outputs": []
    },
    {
      "cell_type": "code",
      "source": [
        "norm_log = NormalizedLogarithme(col='time_elapsed')\n",
        "df = norm_log.transform(df)"
      ],
      "metadata": {
        "id": "_z4nOLy73L3Z"
      },
      "execution_count": 26,
      "outputs": []
    },
    {
      "cell_type": "code",
      "source": [
        "df['time_elapsed_normalized'].describe()"
      ],
      "metadata": {
        "colab": {
          "base_uri": "https://localhost:8080/"
        },
        "id": "53z1qhgA5aQZ",
        "outputId": "dbfb6f94-9fc3-4b7f-8ed4-724603ba3bce"
      },
      "execution_count": 27,
      "outputs": [
        {
          "output_type": "execute_result",
          "data": {
            "text/plain": [
              "count    323676.000000\n",
              "mean         14.835587\n",
              "std           0.388433\n",
              "min          11.366755\n",
              "25%          14.767941\n",
              "50%          14.767941\n",
              "75%          15.003232\n",
              "max          21.092260\n",
              "Name: time_elapsed_normalized, dtype: float64"
            ]
          },
          "metadata": {},
          "execution_count": 27
        }
      ]
    },
    {
      "cell_type": "code",
      "source": [
        "plt.scatter(df['time_elapsed_normalized'], df['state'])\n",
        "plt.xlabel('Time')\n",
        "plt.ylabel('Target')\n",
        "plt.title('Relation entre time elapsed et State')\n",
        "plt.show()\n",
        "\n",
        "# Visuellement, passé une certaine durée, le taux de réussite est nul"
      ],
      "metadata": {
        "colab": {
          "base_uri": "https://localhost:8080/",
          "height": 472
        },
        "id": "lBZrMzWb5aXy",
        "outputId": "2d6aafb4-7935-46da-e5c2-70da52716a7c"
      },
      "execution_count": 28,
      "outputs": [
        {
          "output_type": "display_data",
          "data": {
            "text/plain": [
              "<Figure size 640x480 with 1 Axes>"
            ],
            "image/png": "[encoded data removed]"
          },
          "metadata": {}
        }
      ]
    },
    {
      "cell_type": "code",
      "source": [
        "# La fonction permet de calculer le ratio entre le nombre de succès et le nombre d'échecs, en fonction d'une condition donnée et d'une colonne spécifiée\n",
        "class DataAnalyzer:\n",
        "    def __init__(self, df, col):\n",
        "        self.df = df\n",
        "        self.col = col\n",
        "\n",
        "    def calculate_count_and_ratio(self, condition):\n",
        "        filtered_df_success = self.df[condition & (self.df['state'] == 'successful')]\n",
        "        filtered_df_failed =self.df[condition & (self.df['state'] == 'failed')]\n",
        "        count_successful = filtered_df_success[self.col].count()\n",
        "        count_failed = filtered_df_failed[self.col].count()\n",
        "        ratio = count_successful / count_failed * 100\n",
        "        return ratio\n",
        "\n",
        "    def analyze_data(self):\n",
        "        col_to_compare = self.df[self.col]\n",
        "\n",
        "        mean_value = col_to_compare.mean()\n",
        "        ratio_higher_mean = self.calculate_count_and_ratio(col_to_compare > mean_value)\n",
        "        ratio_lower_mean = self.calculate_count_and_ratio(col_to_compare < mean_value)\n",
        "\n",
        "        q1 = col_to_compare.quantile(0.25)\n",
        "        ratio_higher_q1 = self.calculate_count_and_ratio(col_to_compare > q1)\n",
        "        ratio_lower_q1 = self.calculate_count_and_ratio(col_to_compare < q1)\n",
        "\n",
        "        q3 = col_to_compare.quantile(0.75)\n",
        "        ratio_higher_q3 = self.calculate_count_and_ratio(col_to_compare > q3)\n",
        "        ratio_lower_q3 = self.calculate_count_and_ratio(col_to_compare < q3)\n",
        "\n",
        "        return {\n",
        "            'ratio_higher_mean': ratio_higher_mean,\n",
        "            'ratio_lower_mean': ratio_lower_mean,\n",
        "\n",
        "            'ratio_higher_q1': ratio_higher_q1,\n",
        "            'ratio_lower_q1': ratio_lower_q1,\n",
        "\n",
        "            'ratio_higher_q3': ratio_higher_q3,\n",
        "            'ratio_lower_q3': ratio_lower_q3,\n",
        "        }"
      ],
      "metadata": {
        "id": "daZaZLS68Pna"
      },
      "execution_count": 29,
      "outputs": []
    },
    {
      "cell_type": "code",
      "source": [
        "data_analyzer = DataAnalyzer(df, col='time_elapsed')\n",
        "analysis_results = data_analyzer.analyze_data()"
      ],
      "metadata": {
        "id": "ot4jgEZ-8uOn"
      },
      "execution_count": 30,
      "outputs": []
    },
    {
      "cell_type": "code",
      "source": [
        "df['time_elapsed'].describe()"
      ],
      "metadata": {
        "colab": {
          "base_uri": "https://localhost:8080/"
        },
        "id": "QhdWsDF5BH3p",
        "outputId": "bf1dc043-ea95-4157-91db-aa54db2b37cf"
      },
      "execution_count": 31,
      "outputs": [
        {
          "output_type": "execute_result",
          "data": {
            "text/plain": [
              "count    3.236760e+05\n",
              "mean     2.999903e+06\n",
              "std      6.144961e+06\n",
              "min      8.640000e+04\n",
              "25%      2.592000e+06\n",
              "50%      2.592000e+06\n",
              "75%      3.279600e+06\n",
              "max      1.446279e+09\n",
              "Name: time_elapsed, dtype: float64"
            ]
          },
          "metadata": {},
          "execution_count": 31
        }
      ]
    },
    {
      "cell_type": "code",
      "source": [
        "print(\"Ratio de campagnes réussies avec une durée supérieur à la moyenne:\", analysis_results['ratio_higher_mean'])\n",
        "print(\"Ratio de campagnes réussies avec une durée inférieur à la moyenne :\", analysis_results['ratio_lower_mean'])\n",
        "print(\"--------------------------------------------------\")\n",
        "print(\"Ratio de campagnes réussies avec une durée supérieur à q1:\", analysis_results['ratio_higher_q1'])\n",
        "print(\"Ratio de campagnes réussies avec une durée inférieur à q1:\", analysis_results['ratio_lower_q1'])\n",
        "print(\"--------------------------------------------------\")\n",
        "print(\"Ratio de campagnes réussies avec une durée supérieur à q3 :\", analysis_results['ratio_higher_q3'])\n",
        "print(\"Ratio de campagnes réussies avec une durée inférieur à q3:\", analysis_results['ratio_lower_q3'])"
      ],
      "metadata": {
        "colab": {
          "base_uri": "https://localhost:8080/"
        },
        "id": "EGUHWKY3_A7D",
        "outputId": "a3175c2c-d556-4686-de25-7a10892b1323"
      },
      "execution_count": 32,
      "outputs": [
        {
          "output_type": "stream",
          "name": "stdout",
          "text": [
            "Ratio de campagnes réussies avec une durée supérieur à la moyenne: 43.50517340777377\n",
            "Ratio de campagnes réussies avec une durée inférieur à la moyenne : 61.07974321293217\n",
            "--------------------------------------------------\n",
            "Ratio de campagnes réussies avec une durée supérieur à q1: 52.88362039230115\n",
            "Ratio de campagnes réussies avec une durée inférieur à q1: 84.7745807047238\n",
            "--------------------------------------------------\n",
            "Ratio de campagnes réussies avec une durée supérieur à q3 : 39.79337986317463\n",
            "Ratio de campagnes réussies avec une durée inférieur à q3: 61.572511665368665\n"
          ]
        }
      ]
    },
    {
      "cell_type": "code",
      "source": [
        "def convert_seconds_to_days(seconds):\n",
        "    seconds_in_a_day = 24 * 60 * 60  # Nombre de secondes dans une journée\n",
        "    days = seconds / seconds_in_a_day\n",
        "    return days"
      ],
      "metadata": {
        "id": "H4n5BOeGImHw"
      },
      "execution_count": 33,
      "outputs": []
    },
    {
      "cell_type": "code",
      "source": [
        "print(\"Q1 en jours :\", convert_seconds_to_days(df['time_elapsed'].quantile(0.25)))\n",
        "print(\"Moyenne en jours :\", convert_seconds_to_days(df['time_elapsed'].mean()))\n",
        "print(\"Q3 en jours :\", convert_seconds_to_days(df['time_elapsed'].quantile(0.75)))\n",
        "\n",
        "# Les campagnes qui ont une durée inférieur à 30 jours, ont un taux de réussite de 84% !\n",
        "# Au dela de 37 jours, le taux de réussite chute à moins de 40%"
      ],
      "metadata": {
        "colab": {
          "base_uri": "https://localhost:8080/"
        },
        "id": "EK6Wbd-M5ac_",
        "outputId": "4cdee456-2c25-4ce0-d926-8eff6d884f20"
      },
      "execution_count": 34,
      "outputs": [
        {
          "output_type": "stream",
          "name": "stdout",
          "text": [
            "Q1 en jours : 30.0\n",
            "Moyenne en jours : 34.721102751056385\n",
            "Q3 en jours : 37.958333333333336\n"
          ]
        }
      ]
    },
    {
      "cell_type": "markdown",
      "source": [
        "# Exploration du montant objectif à atteindre\n",
        "\n",
        "Est-ce que le montant objectif d'une campagne a un impact sur sa réussite ? Par exemple, les campagnes avec des objectifs plus modestes ont-elles plus de chances de réussir que celles avec des objectifs élevés ?"
      ],
      "metadata": {
        "id": "FSqXpfGLq95C"
      }
    },
    {
      "cell_type": "code",
      "source": [
        "df['currency'].unique()\n",
        "# Les goal sont en monnaie correspondant à la currency. Toutes les monnaies n'ont pas la même valeur"
      ],
      "metadata": {
        "colab": {
          "base_uri": "https://localhost:8080/"
        },
        "id": "ljZBmKplqnzL",
        "outputId": "8ce23eff-f0c3-4663-9532-b38e1b883348"
      },
      "execution_count": 35,
      "outputs": [
        {
          "output_type": "execute_result",
          "data": {
            "text/plain": [
              "array(['GBP', 'USD', 'CAD', 'NOK', 'AUD', 'EUR', 'MXN', 'SEK', 'NZD',\n",
              "       'CHF', 'DKK', 'HKD', 'SGD'], dtype=object)"
            ]
          },
          "metadata": {},
          "execution_count": 35
        }
      ]
    },
    {
      "cell_type": "code",
      "source": [
        "class ConvertGoalToUSD():\n",
        "    def __init__(self):\n",
        "      pass\n",
        "\n",
        "    def fit(self, X, y=None):\n",
        "        return self\n",
        "\n",
        "    def transform(self, X):\n",
        "      # Dictionnaire des taux de change\n",
        "      exchange_rates = {\n",
        "          'GBP': 1.39,  # Livre sterling\n",
        "          'USD': 1.0,   # Dollar américain\n",
        "          'CAD': 0.81,  # Dollar canadien\n",
        "          'NOK': 0.12,  # Couronne norvégienne\n",
        "          'AUD': 0.74,  # Dollar australien\n",
        "          'EUR': 1.21,  # Euro\n",
        "          'MXN': 0.05,  # Peso mexicain\n",
        "          'SEK': 0.12,  # Couronne suédoise\n",
        "          'NZD': 0.71,  # Dollar néo-zélandais\n",
        "          'CHF': 1.09,  # Franc suisse\n",
        "          'DKK': 0.16,  # Couronne danoise\n",
        "          'HKD': 0.13,  # Dollar de Hong Kong\n",
        "          'SGD': 0.74   # Dollar de Singapour\n",
        "      }\n",
        "\n",
        "      X['goal_usd'] = X.apply(lambda row: row['goal'] / exchange_rates[row['currency']], axis=1)\n",
        "      return X"
      ],
      "metadata": {
        "id": "HboYRXKBqn66"
      },
      "execution_count": 36,
      "outputs": []
    },
    {
      "cell_type": "code",
      "source": [
        "convert_goal_to_usd = ConvertGoalToUSD()\n",
        "df = convert_goal_to_usd.transform(df)"
      ],
      "metadata": {
        "id": "4FOVBAooMLQm"
      },
      "execution_count": 37,
      "outputs": []
    },
    {
      "cell_type": "code",
      "source": [
        "df['goal_usd'].describe()\n",
        "# Des objectifs très disparates. On va normaliser ces résultats pour pouvoir les traiter plus facilement\n",
        "# Puisque le min et le max sont très différents, on va utiliser une transformation logarithmique pour étaler les valeurs sur une plage plus étroite"
      ],
      "metadata": {
        "colab": {
          "base_uri": "https://localhost:8080/"
        },
        "id": "Hrx9b4maqoBQ",
        "outputId": "9dd16787-631c-4ce6-9ca7-7331c2aa1d28"
      },
      "execution_count": 38,
      "outputs": [
        {
          "output_type": "execute_result",
          "data": {
            "text/plain": [
              "count    3.236760e+05\n",
              "mean     6.860573e+04\n",
              "std      2.522345e+06\n",
              "min      1.000000e-02\n",
              "25%      2.000000e+03\n",
              "50%      5.000000e+03\n",
              "75%      1.500000e+04\n",
              "max      8.333333e+08\n",
              "Name: goal_usd, dtype: float64"
            ]
          },
          "metadata": {},
          "execution_count": 38
        }
      ]
    },
    {
      "cell_type": "code",
      "source": [
        "## Normaliser la colonne avec logarithmique\n",
        "norm_log = NormalizedLogarithme(col='goal_usd')\n",
        "df = norm_log.transform(df)"
      ],
      "metadata": {
        "id": "lArrI38ZJ2d3"
      },
      "execution_count": 39,
      "outputs": []
    },
    {
      "cell_type": "code",
      "source": [
        "df['goal_usd_normalized'].describe()"
      ],
      "metadata": {
        "colab": {
          "base_uri": "https://localhost:8080/"
        },
        "id": "7XFcnlmqhR_r",
        "outputId": "7cbf4e61-83da-4ffc-ffa4-c02e4e3b0422"
      },
      "execution_count": 40,
      "outputs": [
        {
          "output_type": "execute_result",
          "data": {
            "text/plain": [
              "count    323676.000000\n",
              "mean          8.632799\n",
              "std           1.752230\n",
              "min           0.009950\n",
              "25%           7.601402\n",
              "50%           8.517393\n",
              "75%           9.615872\n",
              "max          20.540944\n",
              "Name: goal_usd_normalized, dtype: float64"
            ]
          },
          "metadata": {},
          "execution_count": 40
        }
      ]
    },
    {
      "cell_type": "code",
      "source": [
        "plt.scatter(df['goal_usd_normalized'], df['state'])\n",
        "plt.xlabel('Goal')\n",
        "plt.ylabel('Target')\n",
        "plt.title('Relation entre Goal normalized et State')\n",
        "plt.show()"
      ],
      "metadata": {
        "colab": {
          "base_uri": "https://localhost:8080/",
          "height": 472
        },
        "id": "6fV8GIh3rPyX",
        "outputId": "36dfb8b5-37f2-4cbb-da67-bfc42e688e96"
      },
      "execution_count": 41,
      "outputs": [
        {
          "output_type": "display_data",
          "data": {
            "text/plain": [
              "<Figure size 640x480 with 1 Axes>"
            ],
            "image/png": "[encoded data removed]"
          },
          "metadata": {}
        }
      ]
    },
    {
      "cell_type": "code",
      "source": [
        "data_analyzer = DataAnalyzer(df, col='goal_usd')\n",
        "analysis_results = data_analyzer.analyze_data()"
      ],
      "metadata": {
        "id": "5s30-4vpJuXJ"
      },
      "execution_count": 42,
      "outputs": []
    },
    {
      "cell_type": "code",
      "source": [
        "print(\"Ratio de campagnes réussies avec une durée supérieur à la moyenne:\", analysis_results['ratio_higher_mean'])\n",
        "print(\"Ratio de campagnes réussies avec une durée inférieur à la moyenne :\", analysis_results['ratio_lower_mean'])\n",
        "print(\"--------------------------------------------------\")\n",
        "print(\"Ratio de campagnes réussies avec une durée supérieur à q1:\", analysis_results['ratio_higher_q1'])\n",
        "print(\"Ratio de campagnes réussies avec une durée inférieur à q1:\", analysis_results['ratio_lower_q1'])\n",
        "\n",
        "# Les projets ayant un objectif supérieur à la moyenne des objectifs, ont un taux de réussites bien plus faible que ceux inférieur à la moyenne\n",
        "# Une campagne qui a une objectifs inférieur à 2000 USD a une taux de réussite de plus de 90% !"
      ],
      "metadata": {
        "colab": {
          "base_uri": "https://localhost:8080/"
        },
        "id": "kV38d3HTKFNz",
        "outputId": "d500ee85-ea97-4364-968d-9f2b87273dfc"
      },
      "execution_count": 43,
      "outputs": [
        {
          "output_type": "stream",
          "name": "stdout",
          "text": [
            "Ratio de campagnes réussies avec une durée supérieur à la moyenne: 11.970795251602059\n",
            "Ratio de campagnes réussies avec une durée inférieur à la moyenne : 59.89793490044687\n",
            "--------------------------------------------------\n",
            "Ratio de campagnes réussies avec une durée supérieur à q1: 45.63077017452382\n",
            "Ratio de campagnes réussies avec une durée inférieur à q1: 92.08164925392104\n"
          ]
        }
      ]
    },
    {
      "cell_type": "code",
      "source": [
        "print(\"Q1 :\", df['goal_usd'].quantile(0.25))\n",
        "print(\"Moyenne :\", df['goal_usd'].mean())"
      ],
      "metadata": {
        "colab": {
          "base_uri": "https://localhost:8080/"
        },
        "id": "oABKtZ_hKqiX",
        "outputId": "315a2eda-196b-4370-b3b9-8f09ab7817c0"
      },
      "execution_count": 44,
      "outputs": [
        {
          "output_type": "stream",
          "name": "stdout",
          "text": [
            "Q1 : 2000.0\n",
            "Moyenne : 68605.73129904397\n"
          ]
        }
      ]
    },
    {
      "cell_type": "markdown",
      "source": [
        "# Exploration des engagements des backers\n",
        "\n",
        "Est-ce que le nombre de contributeurs (backers) ou le montant des contributions (pledged) a un impact sur la réussite d'une campagne ? Les campagnes avec un grand nombre de backers ou des contributions élevées ont-elles tendance à réussir davantage ?"
      ],
      "metadata": {
        "id": "Fek9KejDq9_d"
      }
    },
    {
      "cell_type": "code",
      "source": [
        "df['backers'].describe()"
      ],
      "metadata": {
        "colab": {
          "base_uri": "https://localhost:8080/"
        },
        "id": "D9f5qVE0QsJv",
        "outputId": "1eb2d728-9786-4967-f889-cc90ec911ff0"
      },
      "execution_count": 45,
      "outputs": [
        {
          "output_type": "execute_result",
          "data": {
            "text/plain": [
              "count    323676.000000\n",
              "mean        101.518435\n",
              "std         934.097786\n",
              "min           0.000000\n",
              "25%           2.000000\n",
              "50%          12.000000\n",
              "75%          55.000000\n",
              "max      219382.000000\n",
              "Name: backers, dtype: float64"
            ]
          },
          "metadata": {},
          "execution_count": 45
        }
      ]
    },
    {
      "cell_type": "code",
      "source": [
        "df[df['backers'] == 219382]\n",
        "# La ligne n'est pas une anomalie...\n",
        "# Après vérification sur le site (https://www.kickstarter.com/projects/elanlee/exploding-kittens?ref=discovery&term=Exploding%20Kittens), la campagne a effectivement autant de contributeurs et a explosé son objectif !"
      ],
      "metadata": {
        "colab": {
          "base_uri": "https://localhost:8080/",
          "height": 142
        },
        "id": "pLGlPshaQ2dV",
        "outputId": "8230b03e-ffd1-4c5c-94eb-8afcc927d1dd"
      },
      "execution_count": 46,
      "outputs": [
        {
          "output_type": "execute_result",
          "data": {
            "text/plain": [
              "                ID               name        category main_category currency            deadline     goal            launched     pledged       state  backers country  usdpledged  time_elapsed  time_elapsed_normalized  goal_usd  goal_usd_normalized\n",
              "160566  1955357092  Exploding Kittens  Tabletop Games         Games      USD 2015-02-20 03:00:00  10000.0 2015-01-20 19:00:19  8782571.99  successful   219382      US  8782571.99     2620781.0                14.778983   10000.0              9.21044"
            ],
            "text/html": [
              "\n",
              "  <div id=\"df-8aad8966-9412-4196-8382-31adaec67151\">\n",
              "    <div class=\"colab-df-container\">\n",
              "      <div>\n",
              "<style scoped>\n",
              "    .dataframe tbody tr th:only-of-type {\n",
              "        vertical-align: middle;\n",
              "    }\n",
              "\n",
              "    .dataframe tbody tr th {\n",
              "        vertical-align: top;\n",
              "    }\n",
              "\n",
              "    .dataframe thead th {\n",
              "        text-align: right;\n",
              "    }\n",
              "</style>\n",
              "<table border=\"1\" class=\"dataframe\">\n",
              "  <thead>\n",
              "    <tr style=\"text-align: right;\">\n",
              "      <th></th>\n",
              "      <th>ID</th>\n",
              "      <th>name</th>\n",
              "      <th>category</th>\n",
              "      <th>main_category</th>\n",
              "      <th>currency</th>\n",
              "      <th>deadline</th>\n",
              "      <th>goal</th>\n",
              "      <th>launched</th>\n",
              "      <th>pledged</th>\n",
              "      <th>state</th>\n",
              "      <th>backers</th>\n",
              "      <th>country</th>\n",
              "      <th>usdpledged</th>\n",
              "      <th>time_elapsed</th>\n",
              "      <th>time_elapsed_normalized</th>\n",
              "      <th>goal_usd</th>\n",
              "      <th>goal_usd_normalized</th>\n",
              "    </tr>\n",
              "  </thead>\n",
              "  <tbody>\n",
              "    <tr>\n",
              "      <th>160566</th>\n",
              "      <td>1955357092</td>\n",
              "      <td>Exploding Kittens</td>\n",
              "      <td>Tabletop Games</td>\n",
              "      <td>Games</td>\n",
              "      <td>USD</td>\n",
              "      <td>2015-02-20 03:00:00</td>\n",
              "      <td>10000.0</td>\n",
              "      <td>2015-01-20 19:00:19</td>\n",
              "      <td>8782571.99</td>\n",
              "      <td>successful</td>\n",
              "      <td>219382</td>\n",
              "      <td>US</td>\n",
              "      <td>8782571.99</td>\n",
              "      <td>2620781.0</td>\n",
              "      <td>14.778983</td>\n",
              "      <td>10000.0</td>\n",
              "      <td>9.21044</td>\n",
              "    </tr>\n",
              "  </tbody>\n",
              "</table>\n",
              "</div>\n",
              "      <button class=\"colab-df-convert\" onclick=\"convertToInteractive('df-8aad8966-9412-4196-8382-31adaec67151')\"\n",
              "              title=\"Convert this dataframe to an interactive table.\"\n",
              "              style=\"display:none;\">\n",
              "        \n",
              "  <svg xmlns=\"http://www.w3.org/2000/svg\" height=\"24px\"viewBox=\"0 0 24 24\"\n",
              "       width=\"24px\">\n",
              "    <path d=\"M0 0h24v24H0V0z\" fill=\"none\"/>\n",
              "    <path d=\"M18.56 5.44l.94 2.06.94-2.06 2.06-.94-2.06-.94-.94-2.06-.94 2.06-2.06.94zm-11 1L8.5 8.5l.94-2.06 2.06-.94-2.06-.94L8.5 2.5l-.94 2.06-2.06.94zm10 10l.94 2.06.94-2.06 2.06-.94-2.06-.94-.94-2.06-.94 2.06-2.06.94z\"/><path d=\"M17.41 7.96l-1.37-1.37c-.4-.4-.92-.59-1.43-.59-.52 0-1.04.2-1.43.59L10.3 9.45l-7.72 7.72c-.78.78-.78 2.05 0 2.83L4 21.41c.39.39.9.59 1.41.59.51 0 1.02-.2 1.41-.59l7.78-7.78 2.81-2.81c.8-.78.8-2.07 0-2.86zM5.41 20L4 18.59l7.72-7.72 1.47 1.35L5.41 20z\"/>\n",
              "  </svg>\n",
              "      </button>\n",
              "      \n",
              "  <style>\n",
              "    .colab-df-container {\n",
              "      display:flex;\n",
              "      flex-wrap:wrap;\n",
              "      gap: 12px;\n",
              "    }\n",
              "\n",
              "    .colab-df-convert {\n",
              "      background-color: #E8F0FE;\n",
              "      border: none;\n",
              "      border-radius: 50%;\n",
              "      cursor: pointer;\n",
              "      display: none;\n",
              "      fill: #1967D2;\n",
              "      height: 32px;\n",
              "      padding: 0 0 0 0;\n",
              "      width: 32px;\n",
              "    }\n",
              "\n",
              "    .colab-df-convert:hover {\n",
              "      background-color: #E2EBFA;\n",
              "      box-shadow: 0px 1px 2px rgba(60, 64, 67, 0.3), 0px 1px 3px 1px rgba(60, 64, 67, 0.15);\n",
              "      fill: #174EA6;\n",
              "    }\n",
              "\n",
              "    [theme=dark] .colab-df-convert {\n",
              "      background-color: #3B4455;\n",
              "      fill: #D2E3FC;\n",
              "    }\n",
              "\n",
              "    [theme=dark] .colab-df-convert:hover {\n",
              "      background-color: #434B5C;\n",
              "      box-shadow: 0px 1px 3px 1px rgba(0, 0, 0, 0.15);\n",
              "      filter: drop-shadow(0px 1px 2px rgba(0, 0, 0, 0.3));\n",
              "      fill: #FFFFFF;\n",
              "    }\n",
              "  </style>\n",
              "\n",
              "      <script>\n",
              "        const buttonEl =\n",
              "          document.querySelector('#df-8aad8966-9412-4196-8382-31adaec67151 button.colab-df-convert');\n",
              "        buttonEl.style.display =\n",
              "          google.colab.kernel.accessAllowed ? 'block' : 'none';\n",
              "\n",
              "        async function convertToInteractive(key) {\n",
              "          const element = document.querySelector('#df-8aad8966-9412-4196-8382-31adaec67151');\n",
              "          const dataTable =\n",
              "            await google.colab.kernel.invokeFunction('convertToInteractive',\n",
              "                                                     [key], {});\n",
              "          if (!dataTable) return;\n",
              "\n",
              "          const docLinkHtml = 'Like what you see? Visit the ' +\n",
              "            '<a target=\"_blank\" href=https://colab.research.google.com/notebooks/data_table.ipynb>data table notebook</a>'\n",
              "            + ' to learn more about interactive tables.';\n",
              "          element.innerHTML = '';\n",
              "          dataTable['output_type'] = 'display_data';\n",
              "          await google.colab.output.renderOutput(dataTable, element);\n",
              "          const docLink = document.createElement('div');\n",
              "          docLink.innerHTML = docLinkHtml;\n",
              "          element.appendChild(docLink);\n",
              "        }\n",
              "      </script>\n",
              "    </div>\n",
              "  </div>\n",
              "  "
            ]
          },
          "metadata": {},
          "execution_count": 46
        }
      ]
    },
    {
      "cell_type": "code",
      "source": [
        "len(df[df['backers'] > 100])\n",
        "len(df[df['backers'] > 500])\n",
        "len(df[df['backers'] > 1000])"
      ],
      "metadata": {
        "colab": {
          "base_uri": "https://localhost:8080/"
        },
        "id": "Pqk1pXtSSBeF",
        "outputId": "777a304c-2b04-463b-eaaf-21ad63920f8f"
      },
      "execution_count": 47,
      "outputs": [
        {
          "output_type": "execute_result",
          "data": {
            "text/plain": [
              "4896"
            ]
          },
          "metadata": {},
          "execution_count": 47
        }
      ]
    },
    {
      "cell_type": "code",
      "source": [
        "def calculate_project_succeed_by_backers(nb_backers):\n",
        "  # Filtrer les projets avec au moins X contributeurs\n",
        "  projects = df[df['backers'] >= nb_backers]\n",
        "\n",
        "  # Calculer le nombre total de projets avec au moins X contributeurs\n",
        "  total_projects = len(projects)\n",
        "\n",
        "  # Filtrer les projets réussis parmi ceux avec au moins X contributeurs\n",
        "  succeed_projects = projects[projects['state'] == 'successful']\n",
        "\n",
        "  # Calculer le nombre de projets réussis avec au moins 12 contributeurs\n",
        "  nb_succeed_projects = len(succeed_projects)\n",
        "\n",
        "  # Calculer le pourcentage de projets réussis parmi ceux avec au moins 12 contributeurs\n",
        "  res = (nb_succeed_projects / total_projects) * 100\n",
        "\n",
        "  print(f\"{res:.2f}% des projets qui ont au moins {nb_backers} contributeurs voient leur campagne réussie.\")"
      ],
      "metadata": {
        "id": "LvHuzQNoTMG2"
      },
      "execution_count": 48,
      "outputs": []
    },
    {
      "cell_type": "code",
      "source": [
        "calculate_project_succeed_by_backers(df['backers'].quantile(0.5))\n",
        "calculate_project_succeed_by_backers(df['backers'].mean())\n",
        "calculate_project_succeed_by_backers(df['backers'].quantile(0.75))\n",
        "calculate_project_succeed_by_backers(1000)\n",
        "\n",
        "# Plus il y a de contributeurs, plus la réussite de la campagne est assurée !\n",
        "# Il faut compter à minima une dizaine de contributeurs pour avoir plus que 50% de chance de réussite"
      ],
      "metadata": {
        "colab": {
          "base_uri": "https://localhost:8080/"
        },
        "id": "mbfMBbjcVafW",
        "outputId": "b177291a-3135-471f-c57d-ae6c0e8315b2"
      },
      "execution_count": 49,
      "outputs": [
        {
          "output_type": "stream",
          "name": "stdout",
          "text": [
            "66.17% des projets qui ont au moins 12.0 contributeurs voient leur campagne réussie.\n",
            "86.28% des projets qui ont au moins 101.51843510176843 contributeurs voient leur campagne réussie.\n",
            "81.89% des projets qui ont au moins 55.0 contributeurs voient leur campagne réussie.\n",
            "96.20% des projets qui ont au moins 1000 contributeurs voient leur campagne réussie.\n"
          ]
        }
      ]
    },
    {
      "cell_type": "code",
      "source": [],
      "metadata": {
        "id": "R_SKzMlKUZMi"
      },
      "execution_count": 49,
      "outputs": []
    },
    {
      "cell_type": "markdown",
      "source": [
        "# Preprocessing"
      ],
      "metadata": {
        "id": "5gt3aHIT1BvG"
      }
    },
    {
      "cell_type": "code",
      "source": [
        "from sklearn.pipeline import Pipeline\n",
        "from sklearn.model_selection import train_test_split"
      ],
      "metadata": {
        "id": "FzeiNqeYTF0w"
      },
      "execution_count": 50,
      "outputs": []
    },
    {
      "cell_type": "code",
      "source": [
        "df = load_csv(path)"
      ],
      "metadata": {
        "id": "c_vUyLIqxyv5"
      },
      "execution_count": 51,
      "outputs": []
    },
    {
      "cell_type": "code",
      "source": [
        "class ConvertColumnToNumerical(BaseEstimator, TransformerMixin):\n",
        "    def __init__(self, columns):\n",
        "        self.columns = columns\n",
        "\n",
        "    def fit(self, X, y=None):\n",
        "        return self\n",
        "\n",
        "    def transform(self, X):\n",
        "       X = X.rename(columns=lambda x: x.replace(' ', ''))\n",
        "       X = X.iloc[:, :-3]\n",
        "       for column in self.columns:\n",
        "          X[column] = pd.to_numeric(X[column], errors='coerce')\n",
        "          X = X.dropna(subset=[column])\n",
        "          X = X.reset_index(drop=True)\n",
        "       return X\n",
        "\n",
        "class BalanceDataset(BaseEstimator, TransformerMixin):\n",
        "    def __init__(self):\n",
        "      pass\n",
        "\n",
        "    def fit(self, X, y=None):\n",
        "        return self\n",
        "\n",
        "    def transform(self, X):\n",
        "      failed_rows = X[X['state'] == 'failed']\n",
        "      successful_rows = X[X['state'] == 'successful']\n",
        "      num_rows_to_remove = abs(len(failed_rows) - len(successful_rows))\n",
        "      if len(failed_rows) > len(successful_rows):\n",
        "          failed_rows = failed_rows.sample(n=num_rows_to_remove, random_state=42)\n",
        "          X = pd.concat([failed_rows, successful_rows])\n",
        "      else:\n",
        "          successful_rows = successful_rows.sample(n=num_rows_to_remove, random_state=42)\n",
        "          X = pd.concat([failed_rows, successful_rows])\n",
        "\n",
        "      X = X.reset_index(drop=True)\n",
        "      return X"
      ],
      "metadata": {
        "id": "U1eCPWjLfWAa"
      },
      "execution_count": 52,
      "outputs": []
    },
    {
      "cell_type": "code",
      "source": [
        "preproc_pipeline = Pipeline([\n",
        "    ('convert_column_to_numerical', ConvertColumnToNumerical(columns=['goal', 'pledged', 'backers'])),\n",
        "    ('format_target', FormatTarget()), # Remplacer toutes les autres valeurs de State qui n'ont ni successful, ni failed\n",
        "    ('balance_dataset', BalanceDataset()), # Supprimer de façon random x lignes dont le state = failed pour avoir un jeu équitable 50% failed et 50% successful\n",
        "    ('calculate_elapsed_time', CalculateElapsedTime()), # Ajouter une colonne de la durée d'une campagne\n",
        "    ('normalized_elapsed_time', NormalizedLogarithme(col='time_elapsed')), # Uniformiser la durée des campagnes\n",
        "    ('convert_goal_to_usd', ConvertGoalToUSD()), # Uniformiser les Goal en USD\n",
        "    ('normalized_goal', NormalizedLogarithme(col='goal_usd')), # Uniformiser les objectifs usd\n",
        "])\n",
        "\n",
        "preproc_pipeline.fit(df)\n",
        "transformed_df = preproc_pipeline.transform(df)"
      ],
      "metadata": {
        "id": "cOT9k-jmdiJr"
      },
      "execution_count": 53,
      "outputs": []
    },
    {
      "cell_type": "code",
      "source": [
        "transformed_df.head()"
      ],
      "metadata": {
        "colab": {
          "base_uri": "https://localhost:8080/",
          "height": 337
        },
        "id": "5ohPNIQ6Z7XU",
        "outputId": "8ab6aa56-9c27-4e25-aa93-31896476b7fa"
      },
      "execution_count": 54,
      "outputs": [
        {
          "output_type": "execute_result",
          "data": {
            "text/plain": [
              "           ID                                               name     category main_category currency            deadline    goal            launched  pledged   state  backers country   usdpledged  time_elapsed  time_elapsed_normalized     goal_usd  goal_usd_normalized\n",
              "0  1941792482     help me get to the NRL Grand Final (Suspended)       Comedy  Film & Video      AUD 2015-10-07 08:14:32   500.0 2015-09-30 08:14:32      0.0  failed        0      AU            0      604800.0                13.312655   675.675676             6.517192\n",
              "1    63427140                                 La Salsa Muy Salsa         Food          Food      USD 2015-03-23 22:47:24  8500.0 2015-02-21 23:47:24    767.0  failed       19      US          767     2588400.0                14.766551  8500.000000             9.047939\n",
              "2  1322616199          Dream in the Making - My first CD project         Jazz         Music      USD 2015-06-23 04:18:56  7000.0 2015-05-24 04:18:56    730.0  failed        9      US          730     2592000.0                14.767941  7000.000000             8.853808\n",
              "3    88177969                                       Craft Empire  Video Games         Games      GBP 2016-10-23 20:13:12  5000.0 2016-09-23 20:13:12    391.0  failed       14      GB  417.3143744     2592000.0                14.767941  3597.122302             8.188167\n",
              "4   806705850  Righteous Anger: Why American Women Should Be ...   Publishing    Publishing      USD 2016-04-07 16:19:20  8000.0 2016-02-22 16:19:20   1161.0  failed       27      US         1161     3888000.0                15.173406  8000.000000             8.987322"
            ],
            "text/html": [
              "\n",
              "  <div id=\"df-7e42bc60-010d-46cf-987e-640cb609976e\">\n",
              "    <div class=\"colab-df-container\">\n",
              "      <div>\n",
              "<style scoped>\n",
              "    .dataframe tbody tr th:only-of-type {\n",
              "        vertical-align: middle;\n",
              "    }\n",
              "\n",
              "    .dataframe tbody tr th {\n",
              "        vertical-align: top;\n",
              "    }\n",
              "\n",
              "    .dataframe thead th {\n",
              "        text-align: right;\n",
              "    }\n",
              "</style>\n",
              "<table border=\"1\" class=\"dataframe\">\n",
              "  <thead>\n",
              "    <tr style=\"text-align: right;\">\n",
              "      <th></th>\n",
              "      <th>ID</th>\n",
              "      <th>name</th>\n",
              "      <th>category</th>\n",
              "      <th>main_category</th>\n",
              "      <th>currency</th>\n",
              "      <th>deadline</th>\n",
              "      <th>goal</th>\n",
              "      <th>launched</th>\n",
              "      <th>pledged</th>\n",
              "      <th>state</th>\n",
              "      <th>backers</th>\n",
              "      <th>country</th>\n",
              "      <th>usdpledged</th>\n",
              "      <th>time_elapsed</th>\n",
              "      <th>time_elapsed_normalized</th>\n",
              "      <th>goal_usd</th>\n",
              "      <th>goal_usd_normalized</th>\n",
              "    </tr>\n",
              "  </thead>\n",
              "  <tbody>\n",
              "    <tr>\n",
              "      <th>0</th>\n",
              "      <td>1941792482</td>\n",
              "      <td>help me get to the NRL Grand Final (Suspended)</td>\n",
              "      <td>Comedy</td>\n",
              "      <td>Film &amp; Video</td>\n",
              "      <td>AUD</td>\n",
              "      <td>2015-10-07 08:14:32</td>\n",
              "      <td>500.0</td>\n",
              "      <td>2015-09-30 08:14:32</td>\n",
              "      <td>0.0</td>\n",
              "      <td>failed</td>\n",
              "      <td>0</td>\n",
              "      <td>AU</td>\n",
              "      <td>0</td>\n",
              "      <td>604800.0</td>\n",
              "      <td>13.312655</td>\n",
              "      <td>675.675676</td>\n",
              "      <td>6.517192</td>\n",
              "    </tr>\n",
              "    <tr>\n",
              "      <th>1</th>\n",
              "      <td>63427140</td>\n",
              "      <td>La Salsa Muy Salsa</td>\n",
              "      <td>Food</td>\n",
              "      <td>Food</td>\n",
              "      <td>USD</td>\n",
              "      <td>2015-03-23 22:47:24</td>\n",
              "      <td>8500.0</td>\n",
              "      <td>2015-02-21 23:47:24</td>\n",
              "      <td>767.0</td>\n",
              "      <td>failed</td>\n",
              "      <td>19</td>\n",
              "      <td>US</td>\n",
              "      <td>767</td>\n",
              "      <td>2588400.0</td>\n",
              "      <td>14.766551</td>\n",
              "      <td>8500.000000</td>\n",
              "      <td>9.047939</td>\n",
              "    </tr>\n",
              "    <tr>\n",
              "      <th>2</th>\n",
              "      <td>1322616199</td>\n",
              "      <td>Dream in the Making - My first CD project</td>\n",
              "      <td>Jazz</td>\n",
              "      <td>Music</td>\n",
              "      <td>USD</td>\n",
              "      <td>2015-06-23 04:18:56</td>\n",
              "      <td>7000.0</td>\n",
              "      <td>2015-05-24 04:18:56</td>\n",
              "      <td>730.0</td>\n",
              "      <td>failed</td>\n",
              "      <td>9</td>\n",
              "      <td>US</td>\n",
              "      <td>730</td>\n",
              "      <td>2592000.0</td>\n",
              "      <td>14.767941</td>\n",
              "      <td>7000.000000</td>\n",
              "      <td>8.853808</td>\n",
              "    </tr>\n",
              "    <tr>\n",
              "      <th>3</th>\n",
              "      <td>88177969</td>\n",
              "      <td>Craft Empire</td>\n",
              "      <td>Video Games</td>\n",
              "      <td>Games</td>\n",
              "      <td>GBP</td>\n",
              "      <td>2016-10-23 20:13:12</td>\n",
              "      <td>5000.0</td>\n",
              "      <td>2016-09-23 20:13:12</td>\n",
              "      <td>391.0</td>\n",
              "      <td>failed</td>\n",
              "      <td>14</td>\n",
              "      <td>GB</td>\n",
              "      <td>417.3143744</td>\n",
              "      <td>2592000.0</td>\n",
              "      <td>14.767941</td>\n",
              "      <td>3597.122302</td>\n",
              "      <td>8.188167</td>\n",
              "    </tr>\n",
              "    <tr>\n",
              "      <th>4</th>\n",
              "      <td>806705850</td>\n",
              "      <td>Righteous Anger: Why American Women Should Be ...</td>\n",
              "      <td>Publishing</td>\n",
              "      <td>Publishing</td>\n",
              "      <td>USD</td>\n",
              "      <td>2016-04-07 16:19:20</td>\n",
              "      <td>8000.0</td>\n",
              "      <td>2016-02-22 16:19:20</td>\n",
              "      <td>1161.0</td>\n",
              "      <td>failed</td>\n",
              "      <td>27</td>\n",
              "      <td>US</td>\n",
              "      <td>1161</td>\n",
              "      <td>3888000.0</td>\n",
              "      <td>15.173406</td>\n",
              "      <td>8000.000000</td>\n",
              "      <td>8.987322</td>\n",
              "    </tr>\n",
              "  </tbody>\n",
              "</table>\n",
              "</div>\n",
              "      <button class=\"colab-df-convert\" onclick=\"convertToInteractive('df-7e42bc60-010d-46cf-987e-640cb609976e')\"\n",
              "              title=\"Convert this dataframe to an interactive table.\"\n",
              "              style=\"display:none;\">\n",
              "        \n",
              "  <svg xmlns=\"http://www.w3.org/2000/svg\" height=\"24px\"viewBox=\"0 0 24 24\"\n",
              "       width=\"24px\">\n",
              "    <path d=\"M0 0h24v24H0V0z\" fill=\"none\"/>\n",
              "    <path d=\"M18.56 5.44l.94 2.06.94-2.06 2.06-.94-2.06-.94-.94-2.06-.94 2.06-2.06.94zm-11 1L8.5 8.5l.94-2.06 2.06-.94-2.06-.94L8.5 2.5l-.94 2.06-2.06.94zm10 10l.94 2.06.94-2.06 2.06-.94-2.06-.94-.94-2.06-.94 2.06-2.06.94z\"/><path d=\"M17.41 7.96l-1.37-1.37c-.4-.4-.92-.59-1.43-.59-.52 0-1.04.2-1.43.59L10.3 9.45l-7.72 7.72c-.78.78-.78 2.05 0 2.83L4 21.41c.39.39.9.59 1.41.59.51 0 1.02-.2 1.41-.59l7.78-7.78 2.81-2.81c.8-.78.8-2.07 0-2.86zM5.41 20L4 18.59l7.72-7.72 1.47 1.35L5.41 20z\"/>\n",
              "  </svg>\n",
              "      </button>\n",
              "      \n",
              "  <style>\n",
              "    .colab-df-container {\n",
              "      display:flex;\n",
              "      flex-wrap:wrap;\n",
              "      gap: 12px;\n",
              "    }\n",
              "\n",
              "    .colab-df-convert {\n",
              "      background-color: #E8F0FE;\n",
              "      border: none;\n",
              "      border-radius: 50%;\n",
              "      cursor: pointer;\n",
              "      display: none;\n",
              "      fill: #1967D2;\n",
              "      height: 32px;\n",
              "      padding: 0 0 0 0;\n",
              "      width: 32px;\n",
              "    }\n",
              "\n",
              "    .colab-df-convert:hover {\n",
              "      background-color: #E2EBFA;\n",
              "      box-shadow: 0px 1px 2px rgba(60, 64, 67, 0.3), 0px 1px 3px 1px rgba(60, 64, 67, 0.15);\n",
              "      fill: #174EA6;\n",
              "    }\n",
              "\n",
              "    [theme=dark] .colab-df-convert {\n",
              "      background-color: #3B4455;\n",
              "      fill: #D2E3FC;\n",
              "    }\n",
              "\n",
              "    [theme=dark] .colab-df-convert:hover {\n",
              "      background-color: #434B5C;\n",
              "      box-shadow: 0px 1px 3px 1px rgba(0, 0, 0, 0.15);\n",
              "      filter: drop-shadow(0px 1px 2px rgba(0, 0, 0, 0.3));\n",
              "      fill: #FFFFFF;\n",
              "    }\n",
              "  </style>\n",
              "\n",
              "      <script>\n",
              "        const buttonEl =\n",
              "          document.querySelector('#df-7e42bc60-010d-46cf-987e-640cb609976e button.colab-df-convert');\n",
              "        buttonEl.style.display =\n",
              "          google.colab.kernel.accessAllowed ? 'block' : 'none';\n",
              "\n",
              "        async function convertToInteractive(key) {\n",
              "          const element = document.querySelector('#df-7e42bc60-010d-46cf-987e-640cb609976e');\n",
              "          const dataTable =\n",
              "            await google.colab.kernel.invokeFunction('convertToInteractive',\n",
              "                                                     [key], {});\n",
              "          if (!dataTable) return;\n",
              "\n",
              "          const docLinkHtml = 'Like what you see? Visit the ' +\n",
              "            '<a target=\"_blank\" href=https://colab.research.google.com/notebooks/data_table.ipynb>data table notebook</a>'\n",
              "            + ' to learn more about interactive tables.';\n",
              "          element.innerHTML = '';\n",
              "          dataTable['output_type'] = 'display_data';\n",
              "          await google.colab.output.renderOutput(dataTable, element);\n",
              "          const docLink = document.createElement('div');\n",
              "          docLink.innerHTML = docLinkHtml;\n",
              "          element.appendChild(docLink);\n",
              "        }\n",
              "      </script>\n",
              "    </div>\n",
              "  </div>\n",
              "  "
            ]
          },
          "metadata": {},
          "execution_count": 54
        }
      ]
    },
    {
      "cell_type": "code",
      "source": [
        "# Splitter le jeu pour le train, et le test\n",
        "col_selected = ['main_category', 'goal_usd_normalized', 'time_elapsed_normalized'] #, 'backers', 'usdpledged'\n",
        "X_train, X_test, y_train, y_test = train_test_split(transformed_df[col_selected], transformed_df['state'], test_size=0.33, random_state=42)\n",
        "X_train"
      ],
      "metadata": {
        "colab": {
          "base_uri": "https://localhost:8080/",
          "height": 424
        },
        "id": "cDunYGG-T1Sk",
        "outputId": "eedece19-b354-41c7-a5f5-6daba99fef16"
      },
      "execution_count": 55,
      "outputs": [
        {
          "output_type": "execute_result",
          "data": {
            "text/plain": [
              "       main_category  goal_usd_normalized  time_elapsed_normalized\n",
              "36475          Music             8.853808                14.815639\n",
              "83765          Games             9.936059                14.767941\n",
              "150558         Music             6.216606                14.767941\n",
              "20949     Technology             9.210440                14.767941\n",
              "42261          Music             7.313887                14.700710\n",
              "...              ...                  ...                      ...\n",
              "119879  Film & Video            10.308986                14.801732\n",
              "103694         Music             8.779711                14.200727\n",
              "131932         Music             8.006701                14.736592\n",
              "146867         Games             9.903538                14.767941\n",
              "121958       Theater             9.615872                14.472856\n",
              "\n",
              "[139449 rows x 3 columns]"
            ],
            "text/html": [
              "\n",
              "  <div id=\"df-e7f18cfd-9846-4e47-acb0-d23ee0be9f30\">\n",
              "    <div class=\"colab-df-container\">\n",
              "      <div>\n",
              "<style scoped>\n",
              "    .dataframe tbody tr th:only-of-type {\n",
              "        vertical-align: middle;\n",
              "    }\n",
              "\n",
              "    .dataframe tbody tr th {\n",
              "        vertical-align: top;\n",
              "    }\n",
              "\n",
              "    .dataframe thead th {\n",
              "        text-align: right;\n",
              "    }\n",
              "</style>\n",
              "<table border=\"1\" class=\"dataframe\">\n",
              "  <thead>\n",
              "    <tr style=\"text-align: right;\">\n",
              "      <th></th>\n",
              "      <th>main_category</th>\n",
              "      <th>goal_usd_normalized</th>\n",
              "      <th>time_elapsed_normalized</th>\n",
              "    </tr>\n",
              "  </thead>\n",
              "  <tbody>\n",
              "    <tr>\n",
              "      <th>36475</th>\n",
              "      <td>Music</td>\n",
              "      <td>8.853808</td>\n",
              "      <td>14.815639</td>\n",
              "    </tr>\n",
              "    <tr>\n",
              "      <th>83765</th>\n",
              "      <td>Games</td>\n",
              "      <td>9.936059</td>\n",
              "      <td>14.767941</td>\n",
              "    </tr>\n",
              "    <tr>\n",
              "      <th>150558</th>\n",
              "      <td>Music</td>\n",
              "      <td>6.216606</td>\n",
              "      <td>14.767941</td>\n",
              "    </tr>\n",
              "    <tr>\n",
              "      <th>20949</th>\n",
              "      <td>Technology</td>\n",
              "      <td>9.210440</td>\n",
              "      <td>14.767941</td>\n",
              "    </tr>\n",
              "    <tr>\n",
              "      <th>42261</th>\n",
              "      <td>Music</td>\n",
              "      <td>7.313887</td>\n",
              "      <td>14.700710</td>\n",
              "    </tr>\n",
              "    <tr>\n",
              "      <th>...</th>\n",
              "      <td>...</td>\n",
              "      <td>...</td>\n",
              "      <td>...</td>\n",
              "    </tr>\n",
              "    <tr>\n",
              "      <th>119879</th>\n",
              "      <td>Film &amp; Video</td>\n",
              "      <td>10.308986</td>\n",
              "      <td>14.801732</td>\n",
              "    </tr>\n",
              "    <tr>\n",
              "      <th>103694</th>\n",
              "      <td>Music</td>\n",
              "      <td>8.779711</td>\n",
              "      <td>14.200727</td>\n",
              "    </tr>\n",
              "    <tr>\n",
              "      <th>131932</th>\n",
              "      <td>Music</td>\n",
              "      <td>8.006701</td>\n",
              "      <td>14.736592</td>\n",
              "    </tr>\n",
              "    <tr>\n",
              "      <th>146867</th>\n",
              "      <td>Games</td>\n",
              "      <td>9.903538</td>\n",
              "      <td>14.767941</td>\n",
              "    </tr>\n",
              "    <tr>\n",
              "      <th>121958</th>\n",
              "      <td>Theater</td>\n",
              "      <td>9.615872</td>\n",
              "      <td>14.472856</td>\n",
              "    </tr>\n",
              "  </tbody>\n",
              "</table>\n",
              "<p>139449 rows × 3 columns</p>\n",
              "</div>\n",
              "      <button class=\"colab-df-convert\" onclick=\"convertToInteractive('df-e7f18cfd-9846-4e47-acb0-d23ee0be9f30')\"\n",
              "              title=\"Convert this dataframe to an interactive table.\"\n",
              "              style=\"display:none;\">\n",
              "        \n",
              "  <svg xmlns=\"http://www.w3.org/2000/svg\" height=\"24px\"viewBox=\"0 0 24 24\"\n",
              "       width=\"24px\">\n",
              "    <path d=\"M0 0h24v24H0V0z\" fill=\"none\"/>\n",
              "    <path d=\"M18.56 5.44l.94 2.06.94-2.06 2.06-.94-2.06-.94-.94-2.06-.94 2.06-2.06.94zm-11 1L8.5 8.5l.94-2.06 2.06-.94-2.06-.94L8.5 2.5l-.94 2.06-2.06.94zm10 10l.94 2.06.94-2.06 2.06-.94-2.06-.94-.94-2.06-.94 2.06-2.06.94z\"/><path d=\"M17.41 7.96l-1.37-1.37c-.4-.4-.92-.59-1.43-.59-.52 0-1.04.2-1.43.59L10.3 9.45l-7.72 7.72c-.78.78-.78 2.05 0 2.83L4 21.41c.39.39.9.59 1.41.59.51 0 1.02-.2 1.41-.59l7.78-7.78 2.81-2.81c.8-.78.8-2.07 0-2.86zM5.41 20L4 18.59l7.72-7.72 1.47 1.35L5.41 20z\"/>\n",
              "  </svg>\n",
              "      </button>\n",
              "      \n",
              "  <style>\n",
              "    .colab-df-container {\n",
              "      display:flex;\n",
              "      flex-wrap:wrap;\n",
              "      gap: 12px;\n",
              "    }\n",
              "\n",
              "    .colab-df-convert {\n",
              "      background-color: #E8F0FE;\n",
              "      border: none;\n",
              "      border-radius: 50%;\n",
              "      cursor: pointer;\n",
              "      display: none;\n",
              "      fill: #1967D2;\n",
              "      height: 32px;\n",
              "      padding: 0 0 0 0;\n",
              "      width: 32px;\n",
              "    }\n",
              "\n",
              "    .colab-df-convert:hover {\n",
              "      background-color: #E2EBFA;\n",
              "      box-shadow: 0px 1px 2px rgba(60, 64, 67, 0.3), 0px 1px 3px 1px rgba(60, 64, 67, 0.15);\n",
              "      fill: #174EA6;\n",
              "    }\n",
              "\n",
              "    [theme=dark] .colab-df-convert {\n",
              "      background-color: #3B4455;\n",
              "      fill: #D2E3FC;\n",
              "    }\n",
              "\n",
              "    [theme=dark] .colab-df-convert:hover {\n",
              "      background-color: #434B5C;\n",
              "      box-shadow: 0px 1px 3px 1px rgba(0, 0, 0, 0.15);\n",
              "      filter: drop-shadow(0px 1px 2px rgba(0, 0, 0, 0.3));\n",
              "      fill: #FFFFFF;\n",
              "    }\n",
              "  </style>\n",
              "\n",
              "      <script>\n",
              "        const buttonEl =\n",
              "          document.querySelector('#df-e7f18cfd-9846-4e47-acb0-d23ee0be9f30 button.colab-df-convert');\n",
              "        buttonEl.style.display =\n",
              "          google.colab.kernel.accessAllowed ? 'block' : 'none';\n",
              "\n",
              "        async function convertToInteractive(key) {\n",
              "          const element = document.querySelector('#df-e7f18cfd-9846-4e47-acb0-d23ee0be9f30');\n",
              "          const dataTable =\n",
              "            await google.colab.kernel.invokeFunction('convertToInteractive',\n",
              "                                                     [key], {});\n",
              "          if (!dataTable) return;\n",
              "\n",
              "          const docLinkHtml = 'Like what you see? Visit the ' +\n",
              "            '<a target=\"_blank\" href=https://colab.research.google.com/notebooks/data_table.ipynb>data table notebook</a>'\n",
              "            + ' to learn more about interactive tables.';\n",
              "          element.innerHTML = '';\n",
              "          dataTable['output_type'] = 'display_data';\n",
              "          await google.colab.output.renderOutput(dataTable, element);\n",
              "          const docLink = document.createElement('div');\n",
              "          docLink.innerHTML = docLinkHtml;\n",
              "          element.appendChild(docLink);\n",
              "        }\n",
              "      </script>\n",
              "    </div>\n",
              "  </div>\n",
              "  "
            ]
          },
          "metadata": {},
          "execution_count": 55
        }
      ]
    },
    {
      "cell_type": "markdown",
      "source": [
        "# Création du modèle - entrainement - évaluation\n"
      ],
      "metadata": {
        "id": "avWF3cFgjATT"
      }
    },
    {
      "cell_type": "code",
      "source": [
        "from sklearn.pipeline import Pipeline\n",
        "from sklearn.preprocessing import OneHotEncoder, LabelEncoder\n",
        "from sklearn.feature_selection import GenericUnivariateSelect\n",
        "from sklearn.linear_model import LogisticRegression\n",
        "from sklearn.tree import DecisionTreeClassifier\n",
        "from sklearn.ensemble import RandomForestClassifier\n",
        "from sklearn.neighbors import KNeighborsClassifier\n",
        "\n",
        "from sklearn.metrics import confusion_matrix, precision_score, recall_score, f1_score\n",
        "\n",
        "from sklearn.preprocessing import StandardScaler\n",
        "from sklearn.pipeline import make_pipeline"
      ],
      "metadata": {
        "id": "jf6o7CZhjJkB"
      },
      "execution_count": 56,
      "outputs": []
    },
    {
      "cell_type": "code",
      "source": [
        "def metrics(y_test, y_pred):\n",
        "  # Calculer la matrice de confusion\n",
        "  confusion = confusion_matrix(y_test, y_pred)\n",
        "  print(\"Matrice de confusion:\")\n",
        "  print(confusion)\n",
        "\n",
        "  # Calculer la précision\n",
        "  precision = precision_score(y_test, y_pred)\n",
        "  print(\"Précision:\", precision)\n",
        "\n",
        "  # Calculer le rappel\n",
        "  recall = recall_score(y_test, y_pred)\n",
        "  print(\"Rappel:\", recall)\n",
        "\n",
        "  # Calculer le score F1\n",
        "  f1 = f1_score(y_test, y_pred)\n",
        "  print(\"Score F1:\", f1)"
      ],
      "metadata": {
        "id": "jhMRZQfNtiPu"
      },
      "execution_count": 57,
      "outputs": []
    },
    {
      "cell_type": "code",
      "source": [
        "# Appliquer le LabelEncoder sur y_train et y_test pour mettre une valeur entre 0 et 1\n",
        "le = LabelEncoder()\n",
        "y_train_encoded = le.fit_transform(y_train)\n",
        "y_test_encoded = le.transform(y_test)\n",
        "\n",
        "# Encode les caractéristiques catégoriques\n",
        "en = OneHotEncoder(handle_unknown='ignore')\n",
        "X_train_encoded = en.fit_transform(X_train)"
      ],
      "metadata": {
        "id": "fwR1Yci8cfRB"
      },
      "execution_count": 61,
      "outputs": []
    },
    {
      "cell_type": "code",
      "source": [
        "models = [\n",
        "    ['LogisticRegression', LogisticRegression(max_iter=500, solver='newton-cg')],\n",
        "    ['DecisionTreeClassifier', DecisionTreeClassifier()],\n",
        "    ['RandomForestClassifier', RandomForestClassifier(n_estimators=100, criterion='gini', max_depth=8, random_state=0, max_features=None)],\n",
        "    ['KNeighborsClassifier', KNeighborsClassifier(n_neighbors=3, weights='distance')]\n",
        "]\n",
        "\n",
        "models_trained = []\n",
        "for name, model in models:\n",
        "    model.fit(X_train_encoded, y_train_encoded)\n",
        "\n",
        "    X_test_encoded = en.transform(X_test)\n",
        "    y_pred = model.predict(X_test_encoded)\n",
        "\n",
        "    print('--------------------', name, '---------------------')\n",
        "    metrics(y_test_encoded, y_pred)\n",
        "\n",
        "    models_trained.append([name, model])"
      ],
      "metadata": {
        "colab": {
          "base_uri": "https://localhost:8080/"
        },
        "id": "rkqnEm1Ysyg8",
        "outputId": "da9715cf-974e-435e-b495-fe2b60d801ec"
      },
      "execution_count": 63,
      "outputs": [
        {
          "output_type": "stream",
          "name": "stdout",
          "text": [
            "-------------------- LogisticRegression ---------------------\n",
            "Matrice de confusion:\n",
            "[[15979 14380]\n",
            " [ 9323 29002]]\n",
            "Précision: 0.6685261168226453\n",
            "Rappel: 0.7567384213959556\n",
            "Score F1: 0.7099024563378902\n",
            "-------------------- DecisionTreeClassifier ---------------------\n",
            "Matrice de confusion:\n",
            "[[16076 14283]\n",
            " [10950 27375]]\n",
            "Précision: 0.6571366844303616\n",
            "Rappel: 0.7142857142857143\n",
            "Score F1: 0.6845204605978771\n",
            "-------------------- RandomForestClassifier ---------------------\n",
            "Matrice de confusion:\n",
            "[[13705 16654]\n",
            " [ 9355 28970]]\n",
            "Précision: 0.6349728213221112\n",
            "Rappel: 0.7559034572733203\n",
            "Score F1: 0.6901809431916998\n",
            "-------------------- KNeighborsClassifier ---------------------\n",
            "Matrice de confusion:\n",
            "[[16199 14160]\n",
            " [14120 24205]]\n",
            "Précision: 0.630913593118728\n",
            "Rappel: 0.6315720808871493\n",
            "Score F1: 0.6312426652757857\n"
          ]
        }
      ]
    },
    {
      "cell_type": "markdown",
      "source": [
        "# Essai d'une nouvelle campagne\n",
        "\n",
        "L'objectif est de prédire si ces campagnes sont susceptibles de réussir ou échouer."
      ],
      "metadata": {
        "id": "bnAz1rYzjZu2"
      }
    },
    {
      "cell_type": "code",
      "source": [
        "# Lancement d'un nouveau projet\n",
        "data = [{\n",
        "    'ID': 1000015000,\n",
        "    'name': 'New Project',\n",
        "    'category': 'dance',\n",
        "    'main_category': 'dance',\n",
        "    'currency': 'USD',\n",
        "    'deadline': '2023-11-30 23:59:59',\n",
        "    'goal': 2000,\n",
        "    'launched': '2023-11-01 09:00:00',\n",
        "    'pledged': 0,\n",
        "    'state': 'live',\n",
        "    'backers': 0,\n",
        "    'country': 'US',\n",
        "    'usdpledged': 0\n",
        "}, {\n",
        "    'ID': 1000015022,\n",
        "    'name': 'New Project',\n",
        "    'category': 'Film & Video',\n",
        "    'main_category': 'Film & Video',\n",
        "    'currency': 'USD',\n",
        "    'deadline': '2023-12-30 23:59:59',\n",
        "    'goal': 100000,\n",
        "    'launched': '2023-11-01 09:00:00',\n",
        "    'pledged': 0,\n",
        "    'state': 'live',\n",
        "    'backers': 0,\n",
        "    'country': 'US',\n",
        "    'usdpledged': 0\n",
        "}]\n",
        "\n",
        "df_launched_campaign = pd.DataFrame(data)\n",
        "df_launched_campaign"
      ],
      "metadata": {
        "colab": {
          "base_uri": "https://localhost:8080/",
          "height": 112
        },
        "id": "5PiK2NOzj35J",
        "outputId": "59be4922-2716-45aa-af52-036b647d7b70"
      },
      "execution_count": 80,
      "outputs": [
        {
          "output_type": "execute_result",
          "data": {
            "text/plain": [
              "           ID         name      category main_category currency             deadline    goal             launched  pledged state  backers country  usdpledged\n",
              "0  1000015000  New Project         dance         dance      USD  2023-11-30 23:59:59    2000  2023-11-01 09:00:00        0  live        0      US           0\n",
              "1  1000015022  New Project  Film & Video  Film & Video      USD  2023-12-30 23:59:59  100000  2023-11-01 09:00:00        0  live        0      US           0"
            ],
            "text/html": [
              "\n",
              "  <div id=\"df-4b505f74-527a-4532-9e27-6b1a2a67c95d\">\n",
              "    <div class=\"colab-df-container\">\n",
              "      <div>\n",
              "<style scoped>\n",
              "    .dataframe tbody tr th:only-of-type {\n",
              "        vertical-align: middle;\n",
              "    }\n",
              "\n",
              "    .dataframe tbody tr th {\n",
              "        vertical-align: top;\n",
              "    }\n",
              "\n",
              "    .dataframe thead th {\n",
              "        text-align: right;\n",
              "    }\n",
              "</style>\n",
              "<table border=\"1\" class=\"dataframe\">\n",
              "  <thead>\n",
              "    <tr style=\"text-align: right;\">\n",
              "      <th></th>\n",
              "      <th>ID</th>\n",
              "      <th>name</th>\n",
              "      <th>category</th>\n",
              "      <th>main_category</th>\n",
              "      <th>currency</th>\n",
              "      <th>deadline</th>\n",
              "      <th>goal</th>\n",
              "      <th>launched</th>\n",
              "      <th>pledged</th>\n",
              "      <th>state</th>\n",
              "      <th>backers</th>\n",
              "      <th>country</th>\n",
              "      <th>usdpledged</th>\n",
              "    </tr>\n",
              "  </thead>\n",
              "  <tbody>\n",
              "    <tr>\n",
              "      <th>0</th>\n",
              "      <td>1000015000</td>\n",
              "      <td>New Project</td>\n",
              "      <td>dance</td>\n",
              "      <td>dance</td>\n",
              "      <td>USD</td>\n",
              "      <td>2023-11-30 23:59:59</td>\n",
              "      <td>2000</td>\n",
              "      <td>2023-11-01 09:00:00</td>\n",
              "      <td>0</td>\n",
              "      <td>live</td>\n",
              "      <td>0</td>\n",
              "      <td>US</td>\n",
              "      <td>0</td>\n",
              "    </tr>\n",
              "    <tr>\n",
              "      <th>1</th>\n",
              "      <td>1000015022</td>\n",
              "      <td>New Project</td>\n",
              "      <td>Film &amp; Video</td>\n",
              "      <td>Film &amp; Video</td>\n",
              "      <td>USD</td>\n",
              "      <td>2023-12-30 23:59:59</td>\n",
              "      <td>100000</td>\n",
              "      <td>2023-11-01 09:00:00</td>\n",
              "      <td>0</td>\n",
              "      <td>live</td>\n",
              "      <td>0</td>\n",
              "      <td>US</td>\n",
              "      <td>0</td>\n",
              "    </tr>\n",
              "  </tbody>\n",
              "</table>\n",
              "</div>\n",
              "      <button class=\"colab-df-convert\" onclick=\"convertToInteractive('df-4b505f74-527a-4532-9e27-6b1a2a67c95d')\"\n",
              "              title=\"Convert this dataframe to an interactive table.\"\n",
              "              style=\"display:none;\">\n",
              "        \n",
              "  <svg xmlns=\"http://www.w3.org/2000/svg\" height=\"24px\"viewBox=\"0 0 24 24\"\n",
              "       width=\"24px\">\n",
              "    <path d=\"M0 0h24v24H0V0z\" fill=\"none\"/>\n",
              "    <path d=\"M18.56 5.44l.94 2.06.94-2.06 2.06-.94-2.06-.94-.94-2.06-.94 2.06-2.06.94zm-11 1L8.5 8.5l.94-2.06 2.06-.94-2.06-.94L8.5 2.5l-.94 2.06-2.06.94zm10 10l.94 2.06.94-2.06 2.06-.94-2.06-.94-.94-2.06-.94 2.06-2.06.94z\"/><path d=\"M17.41 7.96l-1.37-1.37c-.4-.4-.92-.59-1.43-.59-.52 0-1.04.2-1.43.59L10.3 9.45l-7.72 7.72c-.78.78-.78 2.05 0 2.83L4 21.41c.39.39.9.59 1.41.59.51 0 1.02-.2 1.41-.59l7.78-7.78 2.81-2.81c.8-.78.8-2.07 0-2.86zM5.41 20L4 18.59l7.72-7.72 1.47 1.35L5.41 20z\"/>\n",
              "  </svg>\n",
              "      </button>\n",
              "      \n",
              "  <style>\n",
              "    .colab-df-container {\n",
              "      display:flex;\n",
              "      flex-wrap:wrap;\n",
              "      gap: 12px;\n",
              "    }\n",
              "\n",
              "    .colab-df-convert {\n",
              "      background-color: #E8F0FE;\n",
              "      border: none;\n",
              "      border-radius: 50%;\n",
              "      cursor: pointer;\n",
              "      display: none;\n",
              "      fill: #1967D2;\n",
              "      height: 32px;\n",
              "      padding: 0 0 0 0;\n",
              "      width: 32px;\n",
              "    }\n",
              "\n",
              "    .colab-df-convert:hover {\n",
              "      background-color: #E2EBFA;\n",
              "      box-shadow: 0px 1px 2px rgba(60, 64, 67, 0.3), 0px 1px 3px 1px rgba(60, 64, 67, 0.15);\n",
              "      fill: #174EA6;\n",
              "    }\n",
              "\n",
              "    [theme=dark] .colab-df-convert {\n",
              "      background-color: #3B4455;\n",
              "      fill: #D2E3FC;\n",
              "    }\n",
              "\n",
              "    [theme=dark] .colab-df-convert:hover {\n",
              "      background-color: #434B5C;\n",
              "      box-shadow: 0px 1px 3px 1px rgba(0, 0, 0, 0.15);\n",
              "      filter: drop-shadow(0px 1px 2px rgba(0, 0, 0, 0.3));\n",
              "      fill: #FFFFFF;\n",
              "    }\n",
              "  </style>\n",
              "\n",
              "      <script>\n",
              "        const buttonEl =\n",
              "          document.querySelector('#df-4b505f74-527a-4532-9e27-6b1a2a67c95d button.colab-df-convert');\n",
              "        buttonEl.style.display =\n",
              "          google.colab.kernel.accessAllowed ? 'block' : 'none';\n",
              "\n",
              "        async function convertToInteractive(key) {\n",
              "          const element = document.querySelector('#df-4b505f74-527a-4532-9e27-6b1a2a67c95d');\n",
              "          const dataTable =\n",
              "            await google.colab.kernel.invokeFunction('convertToInteractive',\n",
              "                                                     [key], {});\n",
              "          if (!dataTable) return;\n",
              "\n",
              "          const docLinkHtml = 'Like what you see? Visit the ' +\n",
              "            '<a target=\"_blank\" href=https://colab.research.google.com/notebooks/data_table.ipynb>data table notebook</a>'\n",
              "            + ' to learn more about interactive tables.';\n",
              "          element.innerHTML = '';\n",
              "          dataTable['output_type'] = 'display_data';\n",
              "          await google.colab.output.renderOutput(dataTable, element);\n",
              "          const docLink = document.createElement('div');\n",
              "          docLink.innerHTML = docLinkHtml;\n",
              "          element.appendChild(docLink);\n",
              "        }\n",
              "      </script>\n",
              "    </div>\n",
              "  </div>\n",
              "  "
            ]
          },
          "metadata": {},
          "execution_count": 80
        }
      ]
    },
    {
      "cell_type": "code",
      "source": [
        "preproc_pipeline = Pipeline([\n",
        "    ('calculate_elapsed_time', CalculateElapsedTime()), # Ajouter une colonne de la durée d'une campagne\n",
        "    ('normalized_elapsed_time', NormalizedLogarithme(col='time_elapsed')), # Uniformiser la durée des campagnes\n",
        "    ('convert_goal_to_usd', ConvertGoalToUSD()), # Uniformiser les Goal en USD\n",
        "    ('normalized_goal', NormalizedLogarithme(col='goal_usd')), # Uniformiser les objectifs usd\n",
        "])\n",
        "\n",
        "preproc_pipeline.fit(df_launched_campaign)\n",
        "df_launched_campaign = preproc_pipeline.transform(df_launched_campaign)\n",
        "\n",
        "X_encoded = en.transform(df_launched_campaign[col_selected])"
      ],
      "metadata": {
        "id": "DzSoE_mXon2T"
      },
      "execution_count": 81,
      "outputs": []
    },
    {
      "cell_type": "code",
      "source": [
        "for name, model in models:\n",
        "    y_pred = model.predict(X_encoded)\n",
        "\n",
        "    print(name, ': ', y_pred)\n",
        "\n",
        "# D'après les modèles, la campagne optimisée pour réussir devrait réussir\n",
        "# D'après les modèles, la campagne non optimisée pour réussir devrait échouer"
      ],
      "metadata": {
        "colab": {
          "base_uri": "https://localhost:8080/"
        },
        "id": "WzytmC8Ddh7-",
        "outputId": "c1712f56-fd39-4540-e670-0544525f599f"
      },
      "execution_count": 82,
      "outputs": [
        {
          "output_type": "stream",
          "name": "stdout",
          "text": [
            "LogisticRegression :  [1 0]\n",
            "DecisionTreeClassifier :  [1 0]\n",
            "RandomForestClassifier :  [1 1]\n",
            "KNeighborsClassifier :  [1 0]\n"
          ]
        }
      ]
    },
    {
      "cell_type": "markdown",
      "source": [
        "# Conclusion\n",
        "\n",
        "## Réponses aux questions :\n",
        "\n",
        "#1. Qualité des données\n",
        "Le fichier CSV que j'ai utilisé était initialement délimité par des virgules, mais j'ai rencontré un problème lors de la lecture de la colonne 'name', car certains titres contenaient des virgules. Pour résoudre ce problème, j'ai décidé d'utiliser une boucle pour lire le fichier ligne par ligne et traiter les cas où la colonne 'name' avait des virgules. Généralement, ces virgules étaient suivies d'un espace, ce qui permettait de les distinguer du délimiteur standard. De plus, certaines valeurs de la colonne 'name' étaient encapsulées entre des guillemets.\n",
        "\n",
        "Idéalement, j'aurais préféré que l'export CSV initial utilise un délimiteur différent, comme le point-virgule ';', afin d'éviter ce genre de problème lors de la lecture des données. Cela aurait permis une meilleure distinction entre les valeurs des différentes colonnes.\n",
        "\n",
        "Malgré mes efforts pour traiter ces cas particuliers, il restait encore plusieurs dizaines de lignes qui posaient problème. J'ai donc pris la décision de les supprimer du dataset, considérant qu'il aurait été difficile de les intégrer de manière rapide. Toutefois, dans certains scénarios, il aurait peut-être été possible de trouver des solutions alternatives pour inclure ces données de manière appropriée.\n",
        "\n",
        "#2. Exploration du jeu de données\n",
        "Concernant les insights, j'avais émis plusieurs hypothèses en début de projet, voici celles qui m'ont semblé les plus pertinentes à étudier :\n",
        "- Catégorie de projet : est-ce que certaines catégories de projets ont tendance à être plus réussies que d'autres ?\n",
        "- Montant objectif (goal) : est-ce que le montant objectif d'une campagne a un impact sur sa réussite ? Par exemple, les campagnes avec des objectifs plus modestes ont-elles plus de chances de réussir que celles avec des objectifs élevés ?\n",
        "- Durée de la campagne : est-ce que la durée d'une campagne influence son succès ? Les campagnes plus courtes ou plus longues ont-elles des taux de réussite différents ?\n",
        "- Engagement des backers : est-ce que le nombre de contributeurs (backers) ou le montant des contributions (pledged) a un impact sur la réussite d'une campagne ? Les campagnes avec un grand nombre de backers ou des contributions élevées ont-elles tendance à réussir davantage ?\n",
        "\n",
        "Pour que les insights et leur interprétation soient statistiquement significatifs, il serait intéressant de réaliser des analyses statistiques appropriées. Cela peut inclure des tests d'hypothèses, des analyses de corrélation, des régressions, etc. Il est également essentiel de prendre en compte la taille de l'échantillon, les biais potentiels et de tenir compte du contexte global de l'ensemble des données.\n",
        "\n",
        "Les insights trouvés peuvent certainement être transformés en caractéristiques qui faciliteront l'apprentissage du modèle ML. Par exemple, les caractéristiques basées sur la catégorie de projet, le montant objectif, la durée de la campagne et l'engagement des backers peuvent être utilisées comme variables d'entrée pour le modèle.\n",
        "\n",
        "#3. Analyse des résultats\n",
        "\n",
        "Les modèles créés permettent de prédire si une campagne va être réussie ou si elle va échouer. Les modèles ont été entrainés avec seulement 3 features : la catégorie principale, l'objectif en usd et la durée d'une campagne. Features que l'on peut avoir dès le lancement d'une campagne. \\\n",
        "Résultats des modèles :\n",
        "\n",
        "|                           | Matrice de confusion | Précision | Rappel  | Score F1 |\n",
        "|---------------------------|---------------------|-----------|---------|----------|\n",
        "| **LogisticRegression**        | [[15979 14380]      | 0.6685    | 0.7567  | 0.7099   |\n",
        "|                           |  [9323 29002]]      |           |         |          |\n",
        "| DecisionTreeClassifier    | [[16076 14283]      | 0.6571    | 0.7143  | 0.6845   |\n",
        "|                           |  [10950 27375]]     |           |         |          |\n",
        "| RandomForestClassifier    | [[13705 16654]      | 0.6350    | 0.7559  | 0.6902   |\n",
        "|                           |  [9355 28970]]      |           |         |          |\n",
        "| KNeighborsClassifier      | [[16199 14160]      | 0.6309    | 0.6316  | 0.6312   |\n",
        "|                           |  [14120 24205]]     |           |         |          |\n",
        "\n",
        "\n",
        "- Matrice de confusion : La matrice de confusion présente le nombre de prédictions correctes et incorrectes effectuées par chaque modèle. Elle est organisée en quatre quadrants : les vrais positifs (dans le coin supérieur gauche), les vrais négatifs (dans le coin inférieur droit), les faux positifs (dans le coin supérieur droit) et les faux négatifs (dans le coin inférieur gauche). Dans notre cas, tous les modèles sont moyens et ont tendance à être plus optimiste que la réalité, c'est-à-dire qu'ils penses que plus de 14 000 campagnes vont réussir  alors qu'elles ont échouées.\n",
        "  - TP : le modèle reconnait une campagne réussie qui l'est réellement\n",
        "  - TN : le modèle reconnait une campagne échoué qui l'est réellement\n",
        "  - FP : le modèle reconnait une campagne échoué comme réussie\n",
        "  - FN : le modèle reconnait une campagne réussie comme échouée\n",
        "\n",
        "- Précision : La précision mesure la proportion de prédictions positives correctes parmi toutes les prédictions positives effectuées par le modèle. Dans notre cas, la précision est comprise entre 0.63 et 0.67, ce qui indique que les modèles arrivent à prédire, dans plus de la majorité des cas, les campagnes réussies qui ont effectivement réussies. Plus la précision est proche de 1, moins les modèles prédisent des campagnes qui ont échouées comme ayant réussies (moins le modèle se trompe sur les succès).\n",
        "- Rappel : Le rappel mesure la proportion de vrais positifs identifiés parmi tous les cas réellement positifs. Un rappel de 1.0 signifie que tous les vrais positifs ont été correctement identifiés. Dans notre cas, le rappel est compris en 0.63 et 0.75, ce qui signifie que les modèles ont tendance à repérer les campagnes ayant réussies.\n",
        "- Score F1 : Le score F1 est une mesure de la précision et du rappel combinés, calculée comme la moyenne pondérée de ces deux métriques. Il permet d'évaluer l'équilibre entre la précision et le rappel. Dans notre cas, le meilleur score F1 est de 0.71.\n",
        "\n",
        "\n",
        "Voici mes recommandations pour aider un promoteur dans la réussite de ses campagnes :\n",
        "- Choisir des catégories à fort taux de réussite : Les catégories comme le théâtre, la danse, les comics et la musique ont des taux de réussite supérieurs ou proches de 50%.\n",
        "- Fixer un objectif de financement réaliste et atteignable : Les projets avec un objectif de financement inférieur à 2000$ ont une probabilité de réussite plus élevée, avec une augmentation de 90% de chances d'aboutir.\n",
        "- Opter pour une durée de campagne courte : Les campagnes d'une durée inférieure à 30 jours ont un taux de réussite élevé, avec 92% des campagnes de cette durée réussissant.\n",
        "- Etre attractif pour obtenir plus de contributeurs : Les campagnes ayant plus d'une dizaine de contributeurs ont un taux de réussite de plus de 60%. Plus il y a de contributeurs, plus les chances de réussites sont élevées. Proposer des récompenses pour les contributeurs pourraient jouer un rôle crucial dans le succès de la campagne. Il faut s'assurer d'offrir des récompenses attrayantes et pertinentes en fonction du montant des contributions. Cela peut inclure des avantages exclusifs, des exemplaires du produit fini, des expériences uniques ou tout autre élément qui valorise la participation des contributeurs.\n",
        "\n",
        "\n",
        "Avec le meilleur modèle, sur 100 campagnes optimisées pour réussir, 67 réussiront vraiment. Autrement sur 100 campagnes, seulement 35% devraient réussir (basé sur le jeu de données). Avec les optimisations, nous sommes capables d'abaisser le taux de projets qui n'aboutissent pas à 33% contre 64% avant. On pourrait donc réduire de 31% le nombre de projets qui n'aboutissent pas en succès.\n",
        "\n",
        "Cependant, il est important de rappeler que ces chiffres sont des estimations et que les résultats réels peuvent varier en fonction de nombreux autres facteurs non pris en compte par le modèle.\n",
        "\n",
        "\n",
        "#4. Risques liés à un déploiement\n",
        "Si la solution venait à être déployée, je prendrais en considération le risque potentiel lié à la gestion des nouvelles catégories qui peuvent apparaître, puisque la solution actuelle se base sur le OneHotEncoder. Si de nouvelles catégories sont présentes dans les données de déploiement qui n'ont pas été rencontrées lors de l'apprentissage du modèle, cela peut entraîner des erreurs lors de la transformation des données en one-hot encoding, ou avoir des résultats de moins bonnes qualités.\n",
        "\n",
        "Pour mitigérer ce risque, voici quelques approches auxquelles je pense :\n",
        "- Collecter régulièrement les catégories : Mettre en place un processus de surveillance des nouvelles catégories. Il pourrait être judicieux de collecter régulièrement les catégories présentes dans les nouvelles données et de les comparer avec les catégories déjà connues. Cela permettra de détecter les nouvelles catégories et de mettre à jour le codage en conséquence.\n",
        "- Gérer les catégories inconnues : Prévoir une stratégie pour gérer les catégories inconnues lors de l'encodage en one-hot. Par exemple, les catégories inconnues peuvent être traitées comme une catégorie distincte ou assignées à une catégorie spécifique réservée aux catégories inconnues.\n",
        "- Mettre à jour le modèle : Si de nouvelles catégories apparaissent fréquemment dans les données, il sera nécessaire de mettre à jour périodiquement le modèle en incluant les nouvelles catégories dans l'encodage. Cela peut impliquer un nouvel entrainement du modèle."
      ],
      "metadata": {
        "id": "pLgEiGvKj4eE"
      }
    }
  ]
}